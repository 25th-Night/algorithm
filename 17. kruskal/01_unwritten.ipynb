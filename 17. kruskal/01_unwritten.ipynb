{
 "cells": [
  {
   "cell_type": "code",
   "execution_count": 12,
   "metadata": {},
   "outputs": [],
   "source": [
    "# 부모 노드 찾는 함수\n",
    "def find(parent, node):\n",
    "    # path compression 기법\n",
    "    # 루트 노드가 아니라면\n",
    "        \n",
    "        # 부모 노드를 루트 노드로 지정\n",
    "    \n",
    "    # 루트 노드를 반환\n",
    "    \n",
    "\n",
    "# 각 노드가 속한 트리를 합치는 함수\n",
    "def union(parent, rank, node1, node2):\n",
    "    # 두 노드의 루트 노드를 확인\n",
    "    \n",
    "    \n",
    "    # union-by-rank 기법\n",
    "    # 첫번째 루트 노드의 랭크가 더 크다면\n",
    "        \n",
    "        # 두번째 루트 노드의 부모 노드를 첫번째 루트 노드로 지정\n",
    "    \n",
    "    # 그렇지 않다면\n",
    "        \n",
    "        # 첫번째 루트 노드의 부모 노드를 두번째 루트 노드로 지정\n",
    "        \n",
    "        # 만약 첫번째 루트 노드의 랭크와 두번째 루트 노드의 랭크가 같다면\n",
    "            \n",
    "            # 두번째 루트 노드의 랭크를 1 추가\n",
    "    \n",
    "\n",
    "# 최소 신장 트리 생성 함수\n",
    "def kruskal(graph):\n",
    "    # 최소 신장 트리 결과를 담을 빈 리스트 선언\n",
    "    \n",
    "\n",
    "    # 1. 초기화\n",
    "    # 부모 정보를 담을 dict 선언 - 각자 자기 자신을 자신의 부모로 지정\n",
    "    \n",
    "    # rank 정보를 담을 dict 선언 - 초기 rank는 모두 0으로 통일\n",
    "    \n",
    "    \n",
    "    # 2. 간선 weight 기반 sorting\n",
    "    # 연결 정보 리스트를 가져와서 정렬\n",
    "    \n",
    "\n",
    "    \n",
    "    # 3. 간선 연결 (사이클 없는)\n",
    "    # 연결 정보 리스트를 순회\n",
    "        \n",
    "        # 연결 정보를 언패킹하여 각 변수에 할당\n",
    "        \n",
    "        # 만약 두 노드의 부모 노드가 같지 않다면\n",
    "            \n",
    "            #  각 노드가 속한 트리를 합침\n",
    "            \n",
    "            # 최소 신장 트리에 해당 연결 정보를 추가\n",
    "    \n",
    "    \n",
    "    # 최소 신장 트리를 반환\n",
    "    "
   ]
  },
  {
   "cell_type": "code",
   "execution_count": 17,
   "metadata": {},
   "outputs": [
    {
     "name": "stdout",
     "output_type": "stream",
     "text": [
      "[(5, 'A', 'D'), (5, 'C', 'E'), (6, 'D', 'F'), (7, 'A', 'B'), (7, 'B', 'E'), (9, 'E', 'G')]\n"
     ]
    }
   ],
   "source": [
    "mygraph = {\n",
    "    'vertices': ['A', 'B', 'C', 'D', 'E', 'F', 'G'],\n",
    "    'edges': [\n",
    "        (7, 'A', 'B'),\n",
    "        (5, 'A', 'D'),\n",
    "        (7, 'B', 'A'),\n",
    "        (8, 'B', 'C'),\n",
    "        (9, 'B', 'D'),\n",
    "        (7, 'B', 'E'),\n",
    "        (8, 'C', 'B'),\n",
    "        (5, 'C', 'E'),\n",
    "        (5, 'D', 'A'),\n",
    "        (9, 'D', 'B'),\n",
    "        (7, 'D', 'E'),\n",
    "        (6, 'D', 'F'),\n",
    "        (7, 'E', 'B'),\n",
    "        (5, 'E', 'C'),\n",
    "        (7, 'E', 'D'),\n",
    "        (8, 'E', 'F'),\n",
    "        (9, 'E', 'G'),\n",
    "        (6, 'F', 'D'),\n",
    "        (8, 'F', 'E'),\n",
    "        (11, 'F', 'G'),\n",
    "        (9, 'G', 'E'),\n",
    "        (11, 'G', 'F')\n",
    "    ]\n",
    "}\n",
    "\n",
    "\n",
    "print(kruskal(mygraph))"
   ]
  },
  {
   "cell_type": "code",
   "execution_count": null,
   "metadata": {},
   "outputs": [],
   "source": []
  }
 ],
 "metadata": {
  "kernelspec": {
   "display_name": "Python 3",
   "language": "python",
   "name": "python3"
  },
  "language_info": {
   "codemirror_mode": {
    "name": "ipython",
    "version": 3
   },
   "file_extension": ".py",
   "mimetype": "text/x-python",
   "name": "python",
   "nbconvert_exporter": "python",
   "pygments_lexer": "ipython3",
   "version": "3.11.0"
  }
 },
 "nbformat": 4,
 "nbformat_minor": 2
}
