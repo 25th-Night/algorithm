{
 "cells": [
  {
   "cell_type": "code",
   "execution_count": null,
   "metadata": {},
   "outputs": [],
   "source": [
    "def counting_sort(data):\n",
    "    # 배열의 최대 값을 계산\n",
    "    \n",
    "    # 배열의 값의 개수를 저장하기위해 모든 요소를 0으로 갖는 빈도수 배열을 선언\n",
    "    \n",
    "\n",
    "    # 배열을 순회하며\n",
    "        \n",
    "        # 빈도수 배열에서 해당 값의 등장 횟수를 1 추가\n",
    "    \n",
    "\n",
    "    # 정렬 결과를 담을 빈 배열 선언\n",
    "    \n",
    "\n",
    "    # 빈도수 배열을 순회하며\n",
    "        \n",
    "        # 결과 배열에 해당 값을 빈도수만큼 추가\n",
    "    \n",
    "\n",
    "    # 정렬된 배열을 반환\n",
    "    "
   ]
  },
  {
   "cell_type": "code",
   "execution_count": null,
   "metadata": {},
   "outputs": [],
   "source": [
    "import random\n",
    "\n",
    "data_list = random.sample(range(100), 50)\n",
    "print(data_list)\n",
    "print(\"------------------------\")\n",
    "print (counting_sort(data_list))"
   ]
  }
 ],
 "metadata": {
  "language_info": {
   "name": "python"
  }
 },
 "nbformat": 4,
 "nbformat_minor": 2
}
