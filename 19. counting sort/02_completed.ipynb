{
 "cells": [
  {
   "cell_type": "code",
   "execution_count": 3,
   "metadata": {},
   "outputs": [
    {
     "name": "stdout",
     "output_type": "stream",
     "text": [
      "[17, 74, 73, 24, 13, 2, 53, 88, 37, 23, 94, 68, 51, 71, 93, 55, 15, 62, 27, 10, 45, 35, 90, 84, 92, 44, 64, 33, 22, 46, 7, 12, 29, 8, 34, 21, 6, 82, 47, 76, 66, 0, 59, 80, 72, 65, 14, 54, 42, 19]\n",
      "------------------------\n",
      "[0, 2, 6, 7, 8, 10, 12, 13, 14, 15, 17, 19, 21, 22, 23, 24, 27, 29, 33, 34, 35, 37, 42, 44, 45, 46, 47, 51, 53, 54, 55, 59, 62, 64, 65, 66, 68, 71, 72, 73, 74, 76, 80, 82, 84, 88, 90, 92, 93, 94]\n"
     ]
    }
   ],
   "source": [
    "def counting_sort(data):\n",
    "    # 배열의 최대 값을 계산\n",
    "    max_value = max(data)\n",
    "    # 배열의 값의 개수를 저장하기위해 모든 요소를 0으로 갖는 빈도수 배열을 선언\n",
    "    count = [0] * (max_value + 1)\n",
    "\n",
    "    # 배열을 순회하며\n",
    "    for n in data:\n",
    "        # 빈도수 배열에서 해당 값의 등장 횟수를 1 추가\n",
    "        count[n] += 1\n",
    "\n",
    "    # 정렬 결과를 담을 빈 배열 선언\n",
    "    result = []\n",
    "\n",
    "    # 빈도수 배열을 순회하며\n",
    "    for i, n in enumerate(count):\n",
    "        # 결과 배열에 해당 값을 빈도수만큼 추가\n",
    "        result += [i] * n\n",
    "\n",
    "    # 정렬된 배열을 반환\n",
    "    return result\n",
    "\n",
    "\n",
    "import random\n",
    "\n",
    "data_list = random.sample(range(100), 50)\n",
    "print(data_list)\n",
    "print(\"------------------------\")\n",
    "print (counting_sort(data_list))"
   ]
  },
  {
   "cell_type": "code",
   "execution_count": null,
   "metadata": {},
   "outputs": [],
   "source": []
  }
 ],
 "metadata": {
  "kernelspec": {
   "display_name": "Python 3",
   "language": "python",
   "name": "python3"
  },
  "language_info": {
   "codemirror_mode": {
    "name": "ipython",
    "version": 3
   },
   "file_extension": ".py",
   "mimetype": "text/x-python",
   "name": "python",
   "nbconvert_exporter": "python",
   "pygments_lexer": "ipython3",
   "version": "3.11.0"
  }
 },
 "nbformat": 4,
 "nbformat_minor": 2
}
