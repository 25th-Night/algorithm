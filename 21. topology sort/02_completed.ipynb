{
 "cells": [
  {
   "cell_type": "code",
   "execution_count": 7,
   "metadata": {},
   "outputs": [
    {
     "name": "stdout",
     "output_type": "stream",
     "text": [
      "위상정렬 결과: ['A', 'B', 'C', 'D', 'E', 'F']\n"
     ]
    }
   ],
   "source": [
    "from collections import defaultdict, deque\n",
    "\n",
    "def make_data_structures(edges):\n",
    "    # 빈 노드 집합 선언\n",
    "    nodes = set()\n",
    "    # 빈 그래프 선언\n",
    "    graph = defaultdict(list)\n",
    "    # 진입차수를 체크할 빈 dict 선언\n",
    "    indegree = defaultdict(int)\n",
    "    # edge 정보를 순회하며\n",
    "    for s, e in edges:\n",
    "        # 노드 집합에 노드들을 업데이트\n",
    "        nodes.update((s, e))\n",
    "        # 그래프에 (시작 → 도착) 정보 추가\n",
    "        graph[s].append(e)\n",
    "        # 도착 노드의 진입차수 증가\n",
    "        indegree[e] += 1\n",
    "    # 생성한 자료구조들을 반환\n",
    "    return nodes, graph, indegree\n",
    "\n",
    "\n",
    "def bfs(graph, indegree, start):\n",
    "    # 결과를 담을 빈 리스트 선언\n",
    "    result = []\n",
    "    # 방문 예정 노드를 담을 큐를 생성하고 시작 지점을 추가\n",
    "    q = deque([start])\n",
    "    # 큐가 있다면 계속 반복\n",
    "    while q:\n",
    "        # 현재 노드를 큐에서 추출\n",
    "        cn = q.popleft()\n",
    "        # 방문한 현재 노드를 결과에 추가\n",
    "        result.append(cn)\n",
    "        # 현재 노드가 방문할 다음 노드들에 대해 반복\n",
    "        for nn in graph[cn]:\n",
    "            # 다음 노드들의 진입차수를 1씩 감소시킴\n",
    "            indegree[nn] -= 1\n",
    "            # 만약 그 노드의 진입차수가 0이라면\n",
    "            if indegree[nn] == 0:\n",
    "                # 다음 방문할 지점으로 큐에 추가\n",
    "                q.append(nn)\n",
    "\n",
    "    # 결과 리스트를 반환\n",
    "    return result\n",
    "\n",
    "\n",
    "def topological_sort(edges):\n",
    "\n",
    "    # 엣지 정보로부터 필요한 자료구조들을 생성\n",
    "    nodes, graph, indegree = make_data_structures(edges)\n",
    "\n",
    "    # 모든 노드들에 대해 확인\n",
    "    for n in nodes:\n",
    "        # 만약 해당 노드의 진입차수가 0이라면\n",
    "        if indegree[n] == 0:\n",
    "            # 그 노드를 시작점으로 지정\n",
    "            start = n\n",
    "            # 반복을 종료\n",
    "            break\n",
    "    \n",
    "    # bfs로 탐색한 결과를 반환\n",
    "    return bfs(graph, indegree, start)\n",
    "\n",
    "\n",
    "# 간선 정보를 담은 리스트 예시\n",
    "edges = [(\"A\", \"B\"), (\"A\", \"C\"), (\"B\", \"D\"), (\"B\", \"E\"), (\"C\", \"F\"), (\"E\", \"F\")]\n",
    "\n",
    "result = topological_sort(edges)\n",
    "print(\"위상정렬 결과:\", result)"
   ]
  },
  {
   "cell_type": "code",
   "execution_count": null,
   "metadata": {},
   "outputs": [],
   "source": []
  }
 ],
 "metadata": {
  "kernelspec": {
   "display_name": "Python 3",
   "language": "python",
   "name": "python3"
  },
  "language_info": {
   "codemirror_mode": {
    "name": "ipython",
    "version": 3
   },
   "file_extension": ".py",
   "mimetype": "text/x-python",
   "name": "python",
   "nbconvert_exporter": "python",
   "pygments_lexer": "ipython3",
   "version": "3.11.0"
  }
 },
 "nbformat": 4,
 "nbformat_minor": 2
}
