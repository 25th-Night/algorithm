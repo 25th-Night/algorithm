{
 "cells": [
  {
   "cell_type": "markdown",
   "metadata": {},
   "source": [
    "# Array"
   ]
  },
  {
   "cell_type": "code",
   "execution_count": null,
   "metadata": {},
   "outputs": [],
   "source": [
    "class Queue():\n",
    "    def __init__(self):\n",
    "        ...\n",
    "    \n",
    "    def isEmpty(self):\n",
    "        ...\n",
    "\n",
    "    def enqueue(self, data):\n",
    "        ...\n",
    "\n",
    "    def dequeue(self):\n",
    "        ...\n",
    "\n",
    "    def peek(self):\n",
    "        ..."
   ]
  },
  {
   "cell_type": "markdown",
   "metadata": {},
   "source": [
    "# Linked List"
   ]
  },
  {
   "cell_type": "code",
   "execution_count": null,
   "metadata": {},
   "outputs": [],
   "source": [
    "class Node:\n",
    "    def __init__(self, data):\n",
    "        ...\n",
    "\n",
    "class LinkedListQueue:\n",
    "    def __init__(self):\n",
    "        ...\n",
    "\n",
    "    def isEmpty(self):\n",
    "        ...\n",
    "    \n",
    "    def printQueue(self):\n",
    "        ...\n",
    "    \n",
    "    def enqueue(self, data):\n",
    "        ...\n",
    "\n",
    "    def dequeue(self):\n",
    "        ...\n",
    "\n",
    "    def peek(self):\n",
    "        ...\n"
   ]
  }
 ],
 "metadata": {
  "language_info": {
   "name": "python"
  }
 },
 "nbformat": 4,
 "nbformat_minor": 2
}
