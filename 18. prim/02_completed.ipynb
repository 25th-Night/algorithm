{
 "cells": [
  {
   "cell_type": "code",
   "execution_count": 26,
   "metadata": {},
   "outputs": [],
   "source": [
    "from collections import defaultdict\n",
    "from heapq import *\n",
    "\n",
    "def prim(edges, start_node):\n",
    "    mst = list()\n",
    "    adjacent_edges = defaultdict(list)\n",
    "    for weight, n1, n2 in edges:\n",
    "        adjacent_edges[n1].append((weight, n1, n2))\n",
    "        adjacent_edges[n2].append((weight, n2, n1))\n",
    "\n",
    "    connected_nodes = set(start_node)\n",
    "    candidate_edge_list = adjacent_edges[start_node]\n",
    "    heapify(candidate_edge_list)\n",
    "    \n",
    "    while candidate_edge_list:\n",
    "        weight, n1, n2 = heappop(candidate_edge_list)\n",
    "        if n2 not in connected_nodes:\n",
    "            connected_nodes.add(n2)\n",
    "            mst.append((weight, n1, n2))\n",
    "            \n",
    "            for edge in adjacent_edges[n2]:\n",
    "                if edge[2] not in connected_nodes:\n",
    "                    heappush(candidate_edge_list, edge)\n",
    "\n",
    "    return mst"
   ]
  },
  {
   "cell_type": "code",
   "execution_count": 27,
   "metadata": {},
   "outputs": [
    {
     "data": {
      "text/plain": [
       "[(5, 'A', 'D'),\n",
       " (6, 'D', 'F'),\n",
       " (7, 'A', 'B'),\n",
       " (7, 'B', 'E'),\n",
       " (5, 'E', 'C'),\n",
       " (9, 'E', 'G')]"
      ]
     },
     "execution_count": 27,
     "metadata": {},
     "output_type": "execute_result"
    }
   ],
   "source": [
    "myedges = [\n",
    "    (7, 'A', 'B'), (5, 'A', 'D'),\n",
    "    (8, 'B', 'C'), (9, 'B', 'D'), (7, 'B', 'E'),\n",
    "    (5, 'C', 'E'),\n",
    "    (7, 'D', 'E'), (6, 'D', 'F'),\n",
    "    (8, 'E', 'F'), (9, 'E', 'G'),\n",
    "    (11, 'F', 'G')\n",
    "]\n",
    "\n",
    "prim (myedges, 'A')"
   ]
  },
  {
   "cell_type": "code",
   "execution_count": 46,
   "metadata": {},
   "outputs": [],
   "source": [
    "from heapdict import heapdict\n",
    "from collections import defaultdict\n",
    "\n",
    "def make_graph(edges):\n",
    "    graph = defaultdict(dict)\n",
    "    for weight, node1, node2 in edges:\n",
    "        graph[node1][node2] = weight\n",
    "        graph[node2][node1] = weight\n",
    "    return graph\n",
    "\n",
    "def prim(edges, start):\n",
    "    graph = make_graph(edges)\n",
    "    mst, keys, pi, total_weight = list(), heapdict(), dict(), 0\n",
    "    for node in graph.keys():\n",
    "        keys[node] = float('inf')\n",
    "        pi[node] = None\n",
    "    keys[start], pi[start] = 0, start\n",
    "\n",
    "    while keys:\n",
    "        current_node, current_key = keys.popitem()\n",
    "        mst.append([pi[current_node], current_node, current_key])\n",
    "        total_weight += current_key\n",
    "        for adjacent, weight in graph[current_node].items():\n",
    "            if adjacent in keys and weight < keys[adjacent]:\n",
    "                keys[adjacent] = weight # keys를 업데이트 시, 자동으로 힙 구조가 변형됨\n",
    "                pi[adjacent] = current_node\n",
    "    return mst, total_weight"
   ]
  },
  {
   "cell_type": "code",
   "execution_count": 47,
   "metadata": {},
   "outputs": [
    {
     "name": "stdout",
     "output_type": "stream",
     "text": [
      "MST: [['A', 'A', 0], ['A', 'D', 5], ['D', 'F', 6], ['A', 'B', 7], ['D', 'E', 7], ['E', 'C', 5], ['E', 'G', 9]]\n",
      "Total Weight: 39\n"
     ]
    }
   ],
   "source": [
    "myedges = [\n",
    "    (7, 'A', 'B'), (5, 'A', 'D'),\n",
    "    (8, 'B', 'C'), (9, 'B', 'D'), (7, 'B', 'E'),\n",
    "    (5, 'C', 'E'),\n",
    "    (7, 'D', 'E'), (6, 'D', 'F'),\n",
    "    (8, 'E', 'F'), (9, 'E', 'G'),\n",
    "    (11, 'F', 'G')\n",
    "]\n",
    "\n",
    "mst, total_weight = prim(myedges, \"A\")\n",
    "print ('MST:', mst)\n",
    "print ('Total Weight:', total_weight)\n"
   ]
  },
  {
   "cell_type": "code",
   "execution_count": 48,
   "metadata": {},
   "outputs": [],
   "source": [
    "from heapdict import heapdict\n",
    "\n",
    "def prim(graph, start):\n",
    "    mst, keys, pi, total_weight = list(), heapdict(), dict(), 0\n",
    "    for node in graph.keys():\n",
    "        keys[node] = float('inf')\n",
    "        pi[node] = None\n",
    "    keys[start], pi[start] = 0, start\n",
    "\n",
    "    while keys:\n",
    "        current_node, current_key = keys.popitem()\n",
    "        mst.append([pi[current_node], current_node, current_key])\n",
    "        total_weight += current_key\n",
    "        for adjacent, weight in graph[current_node].items():\n",
    "            if adjacent in keys and weight < keys[adjacent]:\n",
    "                keys[adjacent] = weight # keys를 업데이트 시, 자동으로 힙 구조가 변형됨\n",
    "                pi[adjacent] = current_node\n",
    "    return mst, total_weight"
   ]
  },
  {
   "cell_type": "code",
   "execution_count": 35,
   "metadata": {},
   "outputs": [
    {
     "name": "stdout",
     "output_type": "stream",
     "text": [
      "MST: [['A', 'A', 0], ['A', 'D', 5], ['D', 'F', 6], ['A', 'B', 7], ['D', 'E', 7], ['E', 'C', 5], ['E', 'G', 9]]\n",
      "Total Weight: 39\n"
     ]
    }
   ],
   "source": [
    "mygraph = {\n",
    "    'A': {'B': 7, 'D': 5},\n",
    "    'B': {'A': 7, 'D': 9, 'C': 8, 'E': 7},\n",
    "    'C': {'B': 8, 'E': 5},\n",
    "    'D': {'A': 5, 'B': 9, 'E': 7, 'F': 6},\n",
    "    'E': {'B': 7, 'C': 5, 'D': 7, 'F': 8, 'G': 9},\n",
    "    'F': {'D': 6, 'E': 8, 'G': 11},\n",
    "    'G': {'E': 9, 'F': 11}    \n",
    "}\n",
    "mst, total_weight = prim(mygraph, 'A')\n",
    "print ('MST:', mst)\n",
    "print ('Total Weight:', total_weight)"
   ]
  },
  {
   "cell_type": "code",
   "execution_count": null,
   "metadata": {},
   "outputs": [],
   "source": []
  }
 ],
 "metadata": {
  "kernelspec": {
   "display_name": "Python 3",
   "language": "python",
   "name": "python3"
  },
  "language_info": {
   "codemirror_mode": {
    "name": "ipython",
    "version": 3
   },
   "file_extension": ".py",
   "mimetype": "text/x-python",
   "name": "python",
   "nbconvert_exporter": "python",
   "pygments_lexer": "ipython3",
   "version": "3.11.0"
  }
 },
 "nbformat": 4,
 "nbformat_minor": 2
}
