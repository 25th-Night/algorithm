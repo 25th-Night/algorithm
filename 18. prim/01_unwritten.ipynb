{
 "cells": [
  {
   "cell_type": "code",
   "execution_count": 10,
   "metadata": {},
   "outputs": [],
   "source": [
    "from collections import defaultdict\n",
    "from heapq import *\n",
    "\n",
    "def prim(edges, start_node):\n",
    "    # 최소 신장 트리를 빈 리스트로 선언\n",
    "    \n",
    "    # 인접 간선 리스트를 defaultdict로 선언\n",
    "    \n",
    "    # 간선 정보 리스트에 대해 순회\n",
    "    \n",
    "        # 인접 간선 리스트에 두 노드 각각에 대해 간선 정보를 추가\n",
    "    \n",
    "\n",
    "\n",
    "    # 시작 노드를 추가하여 연결된 노드 집합을 선언\n",
    "    \n",
    "    # 시작 노드의 인접 간선 정보를 간선 후보 리스트에 할당\n",
    "    \n",
    "    # 간선 후보 리스트를 힙 자료 구조로 변경\n",
    "    \n",
    "    \n",
    "    # 간선 후보 리스트가 존재하면 계속 반복\n",
    "        \n",
    "        # 가중치가 최소인 간선 정보를 추출하여 각 변수에 할당\n",
    "        \n",
    "        # 해당 노드가 연결된 노드 집합에 들어있지 않다면\n",
    "            \n",
    "            # 연결된 노드 집합에 해당 노드를 추가\n",
    "            \n",
    "            # 최소 신장 트리에 간선 정보를 추가\n",
    "            \n",
    "            \n",
    "            # 해당 노드에 대한 인접 간선 정보에 대해 반복\n",
    "                \n",
    "                # 해당 노드에 연결된 노드가 연결된 노드 집합에 들어있지 않다면\n",
    "                    \n",
    "                    # 간선 후보 리스트에 간선 정보를 힙 자료구조에 맞게 추가\n",
    "    \n",
    "\n",
    "    # 최소 신장 트리를 반환\n"
   ]
  },
  {
   "cell_type": "code",
   "execution_count": null,
   "metadata": {},
   "outputs": [],
   "source": [
    "myedges = [\n",
    "    (7, 'A', 'B'), (5, 'A', 'D'),\n",
    "    (8, 'B', 'C'), (9, 'B', 'D'), (7, 'B', 'E'),\n",
    "    (5, 'C', 'E'),\n",
    "    (7, 'D', 'E'), (6, 'D', 'F'),\n",
    "    (8, 'E', 'F'), (9, 'E', 'G'),\n",
    "    (11, 'F', 'G')\n",
    "]\n",
    "\n",
    "prim (myedges, 'A')"
   ]
  },
  {
   "cell_type": "code",
   "execution_count": null,
   "metadata": {},
   "outputs": [],
   "source": [
    "from heapdict import heapdict\n",
    "from collections import defaultdict\n",
    "\n",
    "def make_graph(edges):\n",
    "    # graph를 defaultdict를 이용하여 dict를 value로 갖는 dict로 선언\n",
    "    \n",
    "    # 연결 정보를 순회하며\n",
    "    \n",
    "        # 정보 내의 두 노드에 대해 각 노드마다 연결된 노드의 가중치를 key-value로 추가\n",
    "        \n",
    "\n",
    "    # graph를 반환\n",
    "        \n",
    "\n",
    "def prim(edges, start):\n",
    "    # 위에서 선언한 함수로 연결 정보를 이용하여 graph 생성\n",
    "\n",
    "    # 최소 신장 트리, 노드별 가중치 저장 dict, 업데이트 시킨 노드 저장 dict, 전체 가중치의 합을 담을 데이터를 변수에 할당\n",
    "\n",
    "    # 전체 노드에 대해 순회\n",
    "\n",
    "        # 각 노드까지의 가중치를 무한대로 초기화\n",
    "\n",
    "        # 아직 각 노드를 업데이트하지 않았으므로 업데이트 시킨 노드는 None으로 지정\n",
    "\n",
    "    # 시작 노드까지의 가중치 값은 0으로 지정하고, 시작 노드를 업데이트 시킨 노드를 자기자신으로 지정\n",
    "\n",
    "\n",
    "    # keys가 존재한다면 계속 반복\n",
    "\n",
    "        # keys에서 최소값을 갖는 데이터를 뽑아서 현재 노드, 현재 가중치로 지정\n",
    "\n",
    "        # 최소 신장 트리에 현재 노드를 업데이트 시킨 노드, 현재 노드, 현재 가중치 정보를 추가\n",
    "\n",
    "        # 전체 가중치에 현재 노드의 가중치를 누적\n",
    "            \n",
    "        # 현재 노드에 연결된 노드에 대해 순회\n",
    "        \n",
    "            # 해당 노드가 아직 연결이 되지 않았고, 해당 노드에 저장된 값이 가중치보다 크다면\n",
    "                \n",
    "                # 해당 노드에 저장된 값을 가중치로 업데이트\n",
    "                \n",
    "                # 해당 노드를 업데이트 시킨 노드를 현재 노드로 지정\n",
    "    \n",
    "                \n",
    "    # 최소신장트리와 전체 무게를 리턴\n",
    "    "
   ]
  },
  {
   "cell_type": "code",
   "execution_count": 19,
   "metadata": {},
   "outputs": [
    {
     "name": "stdout",
     "output_type": "stream",
     "text": [
      "MST: [('A', 'A', 0), ('A', 'D', 5), ('D', 'F', 6), ('A', 'B', 7), ('D', 'E', 7), ('E', 'C', 5), ('E', 'G', 9)]\n",
      "Total Weight: 39\n"
     ]
    }
   ],
   "source": [
    "myedges = [\n",
    "    (7, 'A', 'B'), (5, 'A', 'D'),\n",
    "    (8, 'B', 'C'), (9, 'B', 'D'), (7, 'B', 'E'),\n",
    "    (5, 'C', 'E'),\n",
    "    (7, 'D', 'E'), (6, 'D', 'F'),\n",
    "    (8, 'E', 'F'), (9, 'E', 'G'),\n",
    "    (11, 'F', 'G')\n",
    "]\n",
    "\n",
    "mst, total_weight = prim(myedges, \"A\")\n",
    "print ('MST:', mst)\n",
    "print ('Total Weight:', total_weight)\n"
   ]
  },
  {
   "cell_type": "code",
   "execution_count": null,
   "metadata": {},
   "outputs": [],
   "source": []
  }
 ],
 "metadata": {
  "kernelspec": {
   "display_name": "Python 3",
   "language": "python",
   "name": "python3"
  },
  "language_info": {
   "codemirror_mode": {
    "name": "ipython",
    "version": 3
   },
   "file_extension": ".py",
   "mimetype": "text/x-python",
   "name": "python",
   "nbconvert_exporter": "python",
   "pygments_lexer": "ipython3",
   "version": "3.11.0"
  }
 },
 "nbformat": 4,
 "nbformat_minor": 2
}
