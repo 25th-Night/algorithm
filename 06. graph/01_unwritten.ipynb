{
 "cells": [
  {
   "cell_type": "code",
   "execution_count": null,
   "metadata": {},
   "outputs": [],
   "source": [
    "# 해시 테이블로 그래프 구현\n",
    "\n",
    "class HashTable():\n",
    "\tdef __init__(self):\n",
    "        # 해시 테이블을 초기화\n",
    "\n",
    "\tdef put(self, node, neighbors):\n",
    "        # 노드와 이웃을 테이블의 키-값으로 지정\n",
    "\n",
    "\n",
    "\tdef printTable(self):\n",
    "        # 해시 테이블 내의 모든 키-값 쌍을 출력\n",
    "\n",
    "    def get(self, node):\n",
    "        # 해당 노드를 키로 갖는 값을 출력\n",
    "\n",
    "\tdef remove(self, key):\n",
    "        # 지정된 키를 사용하여 해당하는 키-값 쌍을 해시 테이블에서 삭제"
   ]
  }
 ],
 "metadata": {
  "language_info": {
   "name": "python"
  }
 },
 "nbformat": 4,
 "nbformat_minor": 2
}
