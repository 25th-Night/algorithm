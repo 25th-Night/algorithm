{
 "cells": [
  {
   "cell_type": "markdown",
   "metadata": {},
   "source": [
    "# Array"
   ]
  },
  {
   "cell_type": "code",
   "execution_count": null,
   "metadata": {},
   "outputs": [],
   "source": [
    "class Stack:\n",
    "    def __init__(self):\n",
    "        self.stack = []\n",
    "\n",
    "    def isEmpty(self):\n",
    "        is_empty = False\n",
    "        if len(self.stack) == 0:\n",
    "            is_empty = True\n",
    "        return is_empty\n",
    "    \n",
    "    def push(self, data):\n",
    "        self.stack.append(data)\n",
    "\n",
    "    def pop(self):\n",
    "        pop_object = None\n",
    "        if self.isEmpty():\n",
    "            print(\"Stack is Empty\")\n",
    "        else:\n",
    "            pop_object = self.stack.pop()\n",
    "        return pop_object\n",
    "\n",
    "    def top(self):\n",
    "        top_object = None\n",
    "        if self.isEmpty():\n",
    "            print(\"stack is Empty\")\n",
    "        else:\n",
    "            top_object = self.stack[-1]\n",
    "        return top_object"
   ]
  },
  {
   "cell_type": "markdown",
   "metadata": {},
   "source": [
    "# Linked List\n",
    "\n",
    "## 스택의 정의와 코드 구현의 차이를 이해해야 함\n",
    "\n",
    "> `printStack` 구현 시 주의\n",
    "\n",
    "### 스택의 정의\n",
    "\n",
    "- 1 → 2 → 3\n",
    "\n",
    "### 코드 구현\n",
    "\n",
    "- 1 ← 2 ← 3"
   ]
  },
  {
   "cell_type": "code",
   "execution_count": null,
   "metadata": {},
   "outputs": [],
   "source": [
    "class Node:\n",
    "    def __init__(self, data):\n",
    "        self.data = data\n",
    "        self.next = None\n",
    "\n",
    "class SinglyLinkedStack:\n",
    "    def __init__(self):\n",
    "        self.head = None\n",
    "\n",
    "    def isEmpty(self):\n",
    "        is_empty = False\n",
    "        if self.head is None:\n",
    "            is_empty = True\n",
    "        return is_empty\n",
    "    \n",
    "    def printStack(self):\n",
    "        current_node = self.head\n",
    "        string = \"\"\n",
    "        while current_node:\n",
    "            string += str(current_node.data)\n",
    "            if current_node.next:\n",
    "                string += \" <- \"\n",
    "            current_node = self.head.next\n",
    "        print(string)\n",
    "    \n",
    "    def push(self, data):\n",
    "        new_node = Node(data)\n",
    "        new_node.next = self.head\n",
    "        self.head = new_node\n",
    "\n",
    "    def pop(self):\n",
    "        pop_object = None\n",
    "        if self.isEmpty():\n",
    "            print(\"Stack is Empty\")\n",
    "        else:\n",
    "            pop_object = self.head.data\n",
    "            self.head = self.head.next\n",
    "        return pop_object\n",
    "\n",
    "    def top(self):\n",
    "        top_object = None\n",
    "        if self.isEmpty():\n",
    "            print(\"Stack is Empty\")\n",
    "        else:\n",
    "            top_object = self.head.data\n",
    "        return top_object\n"
   ]
  }
 ],
 "metadata": {
  "language_info": {
   "name": "python"
  }
 },
 "nbformat": 4,
 "nbformat_minor": 2
}
