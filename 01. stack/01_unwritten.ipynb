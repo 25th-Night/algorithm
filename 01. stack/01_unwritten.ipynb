{
 "cells": [
  {
   "cell_type": "markdown",
   "metadata": {},
   "source": [
    "# Array"
   ]
  },
  {
   "cell_type": "code",
   "execution_count": null,
   "metadata": {},
   "outputs": [],
   "source": [
    "class Stack:\n",
    "    def __init__(self):\n",
    "        ...\n",
    "\n",
    "    def isEmpty(self):\n",
    "        ...\n",
    "    \n",
    "    def push(self, data):\n",
    "        ...\n",
    "\n",
    "    def pop(self):\n",
    "        ...\n",
    "\n",
    "    def top(self):\n",
    "        ..."
   ]
  },
  {
   "cell_type": "markdown",
   "metadata": {},
   "source": [
    "# Linked List"
   ]
  },
  {
   "cell_type": "code",
   "execution_count": null,
   "metadata": {},
   "outputs": [],
   "source": [
    "class Node:\n",
    "    def __init__(self, data):\n",
    "        ...\n",
    "\n",
    "class SinglyLinkedStack:\n",
    "    def __init__(self):\n",
    "        ...\n",
    "\n",
    "    def isEmpty(self):\n",
    "        ...\n",
    "    \n",
    "    def printStack(self):\n",
    "        ...\n",
    "    \n",
    "    def push(self, data):\n",
    "        ...\n",
    "\n",
    "    def pop(self):\n",
    "        ...\n",
    "\n",
    "    def top(self):\n",
    "        ...\n"
   ]
  }
 ],
 "metadata": {
  "language_info": {
   "name": "python"
  }
 },
 "nbformat": 4,
 "nbformat_minor": 2
}
