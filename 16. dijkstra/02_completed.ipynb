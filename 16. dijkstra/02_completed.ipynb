{
 "cells": [
  {
   "cell_type": "code",
   "execution_count": 6,
   "metadata": {},
   "outputs": [],
   "source": [
    "from heapq import heappop, heappush\n",
    "\n",
    "def dijkstra(graph, start):\n",
    "    distances = dict.fromkeys(graph.keys(), float(\"inf\"))\n",
    "    distances[start] = 0\n",
    "    queue = []\n",
    "    heappush(queue, (distances[start], start))\n",
    "\n",
    "    while queue:\n",
    "        current_distance, current_node = heappop(queue)\n",
    "\n",
    "        if distances[current_node] < current_distance:\n",
    "            continue\n",
    "\n",
    "        for adjacent, weight in graph[current_node].items():\n",
    "            distance = current_distance + weight\n",
    "\n",
    "            if distance < distances[adjacent]:\n",
    "                distances[adjacent] = distance\n",
    "                heappush(queue, (distance, adjacent))\n",
    "\n",
    "    return distances\n"
   ]
  },
  {
   "cell_type": "code",
   "execution_count": 7,
   "metadata": {},
   "outputs": [
    {
     "data": {
      "text/plain": [
       "{'A': 0, 'B': 6, 'C': 1, 'D': 2, 'E': 5, 'F': 6}"
      ]
     },
     "execution_count": 7,
     "metadata": {},
     "output_type": "execute_result"
    }
   ],
   "source": [
    "mygraph = {\n",
    "    'A': {'B': 8, 'C': 1, 'D': 2},\n",
    "    'B': {},\n",
    "    'C': {'B': 5, 'D': 2},\n",
    "    'D': {'E': 3, 'F': 5},\n",
    "    'E': {'F': 1},\n",
    "    'F': {'A': 5}\n",
    "}\n",
    "\n",
    "dijkstra(mygraph, 'A')"
   ]
  },
  {
   "cell_type": "code",
   "execution_count": 16,
   "metadata": {},
   "outputs": [],
   "source": [
    "from heapq import heappop, heappush\n",
    "\n",
    "def dijkstra(graph, start, end):\n",
    "    distances = dict.fromkeys(graph.keys(), (float(\"inf\"), start))\n",
    "    distances[start] = [0, start]\n",
    "    queue = []\n",
    "    heappush(queue, (0, start))\n",
    "\n",
    "    while queue:\n",
    "        current_distance, current_node = heappop(queue)\n",
    "\n",
    "        if distances[current_node][0] < current_distance:\n",
    "            continue\n",
    "        \n",
    "        for adjacent, weight in graph[current_node].items():\n",
    "            distance = current_distance + weight\n",
    "            if distance < distances[adjacent][0]:\n",
    "                distances[adjacent] = (distance, current_node)\n",
    "                heappush(queue, (distance, adjacent))\n",
    "    \n",
    "    path = end\n",
    "    path_output = end + '->'\n",
    "    while distances[path][1] != start:\n",
    "        path_output += distances[path][1] + '->'\n",
    "        path = distances[path][1]\n",
    "    path_output += start\n",
    "    print (path_output)\n",
    "\n",
    "    return distances\n"
   ]
  },
  {
   "cell_type": "code",
   "execution_count": null,
   "metadata": {},
   "outputs": [],
   "source": [
    "from heapq import heappop, heappush\n",
    "\n",
    "def dijkstra(graph, start, end):\n",
    "    distances = dict.fromkeys(graph.keys(), (float(\"inf\"), start))\n",
    "    distances[start] = [0, start]\n",
    "    queue = []\n",
    "    heappush(queue, (0, start))\n",
    "\n",
    "    while queue:\n",
    "        current_distance, current_node = heappop(queue)\n",
    "\n",
    "        if distances[current_node][0] >= current_distance:\n",
    "            for adjacent, weight in graph[current_node].items():\n",
    "                distance = current_distance + weight\n",
    "                if distance < distances[adjacent][0]:\n",
    "                    distances[adjacent] = (distance, current_node)\n",
    "                    heappush(queue, (distance, adjacent))\n",
    "    \n",
    "    path = end\n",
    "    path_output = end + '->'\n",
    "    while distances[path][1] != start:\n",
    "        path_output += distances[path][1] + '->'\n",
    "        path = distances[path][1]\n",
    "    path_output += start\n",
    "    print (path_output)\n",
    "\n",
    "    return distances\n"
   ]
  },
  {
   "cell_type": "code",
   "execution_count": null,
   "metadata": {},
   "outputs": [],
   "source": [
    "from heapq import heappop, heappush\n",
    "\n",
    "def dijkstra(graph, start, end):\n",
    "    distances = dict.fromkeys(graph.keys(), (float(\"inf\"), start))\n",
    "    distances[start] = [0, start]\n",
    "    queue = []\n",
    "    heappush(queue, (0, start))\n",
    "\n",
    "    while queue:\n",
    "        current_distance, current_node = heappop(queue)\n",
    "\n",
    "        if distances[current_node][0] >= current_distance:\n",
    "            for adjacent, weight in graph[current_node].items():\n",
    "                distance = current_distance + weight\n",
    "                if distance < distances[adjacent][0]:\n",
    "                    distances[adjacent] = (distance, current_node)\n",
    "                    heappush(queue, (distance, adjacent))\n",
    "    \n",
    "    path = end\n",
    "    path_output = end + '->'\n",
    "    while distances[path][1] != start:\n",
    "        path_output += distances[path][1] + '->'\n",
    "        path = distances[path][1]\n",
    "    path_output += start\n",
    "    print (path_output)\n",
    "\n",
    "    return distances\n"
   ]
  },
  {
   "cell_type": "code",
   "execution_count": 17,
   "metadata": {},
   "outputs": [
    {
     "name": "stdout",
     "output_type": "stream",
     "text": [
      "F->E->D->A\n"
     ]
    },
    {
     "data": {
      "text/plain": [
       "{'A': [0, 'A'],\n",
       " 'B': (6, 'C'),\n",
       " 'C': (1, 'A'),\n",
       " 'D': (2, 'A'),\n",
       " 'E': (5, 'D'),\n",
       " 'F': (6, 'E')}"
      ]
     },
     "execution_count": 17,
     "metadata": {},
     "output_type": "execute_result"
    }
   ],
   "source": [
    "mygraph = {\n",
    "    'A': {'B': 8, 'C': 1, 'D': 2},\n",
    "    'B': {},\n",
    "    'C': {'B': 5, 'D': 2},\n",
    "    'D': {'E': 3, 'F': 5},\n",
    "    'E': {'F': 1},\n",
    "    'F': {'A': 5}\n",
    "}\n",
    "\n",
    "dijkstra(mygraph, 'A', 'F')"
   ]
  },
  {
   "cell_type": "code",
   "execution_count": null,
   "metadata": {},
   "outputs": [],
   "source": []
  }
 ],
 "metadata": {
  "kernelspec": {
   "display_name": "Python 3",
   "language": "python",
   "name": "python3"
  },
  "language_info": {
   "codemirror_mode": {
    "name": "ipython",
    "version": 3
   },
   "file_extension": ".py",
   "mimetype": "text/x-python",
   "name": "python",
   "nbconvert_exporter": "python",
   "pygments_lexer": "ipython3",
   "version": "3.11.0"
  }
 },
 "nbformat": 4,
 "nbformat_minor": 2
}
