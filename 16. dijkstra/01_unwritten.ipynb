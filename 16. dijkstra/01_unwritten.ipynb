{
 "cells": [
  {
   "cell_type": "code",
   "execution_count": null,
   "metadata": {},
   "outputs": [],
   "source": [
    "from heapq import heappop, heappush\n",
    "\n",
    "def dijkstra(graph, start):\n",
    "    # 각 노드까지의 거리를 표현할 dict 선언하고, 초기값은 inf로 설정\n",
    "    \n",
    "    # 시작점까지의 거리는 0으로 지정\n",
    "    \n",
    "    # 우선순위 큐로 사용할 빈 리스트 선언\n",
    "    \n",
    "    # 시작점에 대한 노드와 거리를 튜플로 우선순위 큐에 추가\n",
    "    \n",
    "\n",
    "    # 큐가 존재하면 계속 진행\n",
    "    \n",
    "        # 현재 거리와 노드를 우선순위 큐에서 추출\n",
    "        \n",
    "\n",
    "        # dict에 저장된 거리가 그래프에 저장된 거리보다 짧으면 반복을 하지 않고 지나침\n",
    "        \n",
    "\n",
    "        # 현재 노드와 연결된 노드들에 대해 반복\n",
    "        \n",
    "            # 현재 거리와 연결된 노드의 거리를 합친 거리를 계산\n",
    "            \n",
    "\n",
    "            # 계산한 거리가 dict에 저장된 거리보다 짧다면\n",
    "            \n",
    "                # dict의 정보를 업데이트\n",
    "                \n",
    "                # 우선순위 큐에 계산한 거리와 해당 노드의 정보를 추가\n",
    "                \n",
    "\n",
    "    # 거리 정보를 저장하는 dict를 반환\n",
    "    \n"
   ]
  },
  {
   "cell_type": "code",
   "execution_count": 9,
   "metadata": {},
   "outputs": [
    {
     "data": {
      "text/plain": [
       "{'A': 0, 'B': 6, 'C': 1, 'D': 2, 'E': 5, 'F': 6}"
      ]
     },
     "execution_count": 9,
     "metadata": {},
     "output_type": "execute_result"
    }
   ],
   "source": [
    "mygraph = {\n",
    "    'A': {'B': 8, 'C': 1, 'D': 2},\n",
    "    'B': {},\n",
    "    'C': {'B': 5, 'D': 2},\n",
    "    'D': {'E': 3, 'F': 5},\n",
    "    'E': {'F': 1},\n",
    "    'F': {'A': 5}\n",
    "}\n",
    "\n",
    "dijkstra(mygraph, 'A')"
   ]
  },
  {
   "cell_type": "code",
   "execution_count": null,
   "metadata": {},
   "outputs": [],
   "source": []
  }
 ],
 "metadata": {
  "kernelspec": {
   "display_name": "Python 3",
   "language": "python",
   "name": "python3"
  },
  "language_info": {
   "codemirror_mode": {
    "name": "ipython",
    "version": 3
   },
   "file_extension": ".py",
   "mimetype": "text/x-python",
   "name": "python",
   "nbconvert_exporter": "python",
   "pygments_lexer": "ipython3",
   "version": "3.11.0"
  }
 },
 "nbformat": 4,
 "nbformat_minor": 2
}
