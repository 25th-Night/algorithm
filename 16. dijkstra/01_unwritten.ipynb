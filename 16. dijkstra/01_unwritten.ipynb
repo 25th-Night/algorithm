{
 "cells": [
  {
   "cell_type": "code",
   "execution_count": null,
   "metadata": {},
   "outputs": [],
   "source": [
    "from heapq import heappop, heappush\n",
    "\n",
    "def dijkstra(graph, start):\n",
    "    # 각 노드까지의 거리를 표현할 dict 선언하고, 초기값은 inf로 설정\n",
    "    \n",
    "    # 시작점까지의 거리는 0으로 지정\n",
    "    \n",
    "    # 우선순위 큐로 사용할 빈 리스트 선언\n",
    "    \n",
    "    # 시작점에 대한 노드와 거리를 튜플로 우선순위 큐에 추가\n",
    "    \n",
    "\n",
    "    # 큐가 존재하면 계속 진행\n",
    "    \n",
    "        # 현재 거리와 노드를 우선순위 큐에서 추출\n",
    "        \n",
    "\n",
    "        # dict에 저장된 거리가 그래프에 저장된 거리보다 짧으면 반복을 하지 않고 지나침\n",
    "        \n",
    "\n",
    "        # 현재 노드와 연결된 노드들에 대해 반복\n",
    "        \n",
    "            # 현재 거리와 연결된 노드의 거리를 합친 거리를 계산\n",
    "            \n",
    "\n",
    "            # 계산한 거리가 dict에 저장된 거리보다 짧다면\n",
    "            \n",
    "                # dict의 정보를 업데이트\n",
    "                \n",
    "                # 우선순위 큐에 계산한 거리와 해당 노드의 정보를 추가\n",
    "                \n",
    "\n",
    "    # 거리 정보를 저장하는 dict를 반환\n",
    "    \n"
   ]
  },
  {
   "cell_type": "code",
   "execution_count": 20,
   "metadata": {},
   "outputs": [
    {
     "name": "stdout",
     "output_type": "stream",
     "text": [
      "0 A 0\n",
      "B 8\n",
      "[(8, 'B')] {'A': 0, 'B': 8, 'C': inf, 'D': inf, 'E': inf, 'F': inf}\n",
      "----\n",
      "C 1\n",
      "[(1, 'C'), (8, 'B')] {'A': 0, 'B': 8, 'C': 1, 'D': inf, 'E': inf, 'F': inf}\n",
      "----\n",
      "D 2\n",
      "[(1, 'C'), (8, 'B'), (2, 'D')] {'A': 0, 'B': 8, 'C': 1, 'D': 2, 'E': inf, 'F': inf}\n",
      "----\n",
      "------\n",
      "--------\n",
      "1 C 1\n",
      "B 5\n",
      "[(2, 'D'), (8, 'B'), (6, 'B')] {'A': 0, 'B': 6, 'C': 1, 'D': 2, 'E': inf, 'F': inf}\n",
      "----\n",
      "----\n",
      "------\n",
      "--------\n",
      "2 D 2\n",
      "E 3\n",
      "[(5, 'E'), (8, 'B'), (6, 'B')] {'A': 0, 'B': 6, 'C': 1, 'D': 2, 'E': 5, 'F': inf}\n",
      "----\n",
      "F 5\n",
      "[(5, 'E'), (7, 'F'), (6, 'B'), (8, 'B')] {'A': 0, 'B': 6, 'C': 1, 'D': 2, 'E': 5, 'F': 7}\n",
      "----\n",
      "------\n",
      "--------\n",
      "5 E 5\n",
      "F 1\n",
      "[(6, 'B'), (6, 'F'), (8, 'B'), (7, 'F')] {'A': 0, 'B': 6, 'C': 1, 'D': 2, 'E': 5, 'F': 6}\n",
      "----\n",
      "------\n",
      "--------\n",
      "6 B 6\n",
      "------\n",
      "--------\n",
      "6 F 6\n",
      "----\n",
      "------\n",
      "--------\n",
      "7 F 6\n",
      "--------\n",
      "8 B 6\n",
      "--------\n"
     ]
    },
    {
     "data": {
      "text/plain": [
       "{'A': 0, 'B': 6, 'C': 1, 'D': 2, 'E': 5, 'F': 6}"
      ]
     },
     "execution_count": 20,
     "metadata": {},
     "output_type": "execute_result"
    }
   ],
   "source": [
    "mygraph = {\n",
    "    'A': {'B': 8, 'C': 1, 'D': 2},\n",
    "    'B': {},\n",
    "    'C': {'B': 5, 'D': 2},\n",
    "    'D': {'E': 3, 'F': 5},\n",
    "    'E': {'F': 1},\n",
    "    'F': {'A': 5}\n",
    "}\n",
    "\n",
    "dijkstra(mygraph, 'A')"
   ]
  },
  {
   "cell_type": "code",
   "execution_count": 35,
   "metadata": {},
   "outputs": [],
   "source": [
    "from heapq import heappop, heappush\n",
    "\n",
    "def dijkstra(graph, start, end):\n",
    "    # dist: 최단 경로 및 거리를 기록하는 사전\n",
    "    # (최단거리, 바로이전노드) 가 포함되어 있음\n",
    "\n",
    "    # 초기값: 모든 노드에 대해 무한대, 시작 노드에 대해서는 (0, start)\n",
    "\n",
    "    # 우선순위 큐를 사용하여 최소 힙 구조를 만듦\n",
    "\n",
    "\n",
    "    # 큐가 존재하면 계속 반복\n",
    "        \n",
    "        # 현재 큐에서 가장 작은 거리와 노드를 꺼냄\n",
    "        \n",
    "\n",
    "        # 현재까지의 거리가 최소 거리보다 작거나 같은 경우에만 진행\n",
    "            \n",
    "            # 현재 노드의 이웃 노드에 대해 반복\n",
    "                \n",
    "                # 새로운 거리를 현재까지의 거리와 이웃 노드까지의 거리의 합으로 계산\n",
    "                \n",
    "                # 새로운 거리가 기존 거리보다 작으면 \n",
    "                    \n",
    "                    # 최단 경로 및 거리를 기록하는 사전에 현재 노드에 대한 최단거리와 바로이전노드 정보를 업데이트\n",
    "                    \n",
    "                    # 우선순위 큐에 현재 노드에 대한 최단거리와 현재 노드 정보 추가\n",
    "    \n",
    "    # 도착 노드를 지정\n",
    "    \n",
    "    # 도착 노드에서 시작 노드까지의 경로를 지정\n",
    "    \n",
    "    # 이전에 거쳐온 노드가 시작 노드가 아니라면\n",
    "    \n",
    "        # 경로를 업데이트\n",
    "        \n",
    "        # 도착 노드를 거쳐온 노드로 업데이트\n",
    "        \n",
    "    # 경로에 시작 노드를 추가\n",
    "    \n",
    "    # 경로를 출력\n",
    "    \n",
    "\n",
    "    # 거리 정보를 저장하는 dict를 반환\n"
   ]
  },
  {
   "cell_type": "code",
   "execution_count": 36,
   "metadata": {},
   "outputs": [
    {
     "name": "stdout",
     "output_type": "stream",
     "text": [
      "F->E->D->A\n"
     ]
    },
    {
     "data": {
      "text/plain": [
       "{'A': (0, 'A'),\n",
       " 'B': (6, 'C'),\n",
       " 'C': (1, 'A'),\n",
       " 'D': (2, 'A'),\n",
       " 'E': (5, 'D'),\n",
       " 'F': (6, 'E')}"
      ]
     },
     "execution_count": 36,
     "metadata": {},
     "output_type": "execute_result"
    }
   ],
   "source": [
    "mygraph = {\n",
    "    'A': {'B': 8, 'C': 1, 'D': 2},\n",
    "    'B': {},\n",
    "    'C': {'B': 5, 'D': 2},\n",
    "    'D': {'E': 3, 'F': 5},\n",
    "    'E': {'F': 1},\n",
    "    'F': {'A': 5}\n",
    "}\n",
    "\n",
    "dijkstra(mygraph, 'A', 'F')"
   ]
  },
  {
   "cell_type": "code",
   "execution_count": null,
   "metadata": {},
   "outputs": [],
   "source": []
  }
 ],
 "metadata": {
  "kernelspec": {
   "display_name": "Python 3",
   "language": "python",
   "name": "python3"
  },
  "language_info": {
   "codemirror_mode": {
    "name": "ipython",
    "version": 3
   },
   "file_extension": ".py",
   "mimetype": "text/x-python",
   "name": "python",
   "nbconvert_exporter": "python",
   "pygments_lexer": "ipython3",
   "version": "3.11.0"
  }
 },
 "nbformat": 4,
 "nbformat_minor": 2
}
