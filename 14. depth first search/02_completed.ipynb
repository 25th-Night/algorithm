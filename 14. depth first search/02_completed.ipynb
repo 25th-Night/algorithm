{
 "cells": [
  {
   "cell_type": "code",
   "execution_count": 1,
   "metadata": {},
   "outputs": [],
   "source": [
    "def dfs(graph, start):\n",
    "    # 방문 예정 리스트 선언\n",
    "    need_visit = [start]\n",
    "    # 방문 완료 리스트 선언\n",
    "    visited = []\n",
    "\n",
    "    # 방문 예정 지점이 남은 경우 반복\n",
    "    while need_visit:\n",
    "        # 방문할 지점을 가장 마지막 지점으로 추출\n",
    "        target = need_visit.pop()\n",
    "        # 해당 지점을 방문 완료하지 않았다면\n",
    "        if target not in visited:\n",
    "            # 방문 완료 처리\n",
    "            visited.append(target)\n",
    "            # 해당 지점과 연결된 지점들을 방문 예정 리스트에 추가\n",
    "            # 우측 부터 탐색\n",
    "            # need_visit += graph[target]\n",
    "            # 좌측 부터 탐색\n",
    "            need_visit += reversed(graph[target])\n",
    "    \n",
    "    # 방문 완료 리스트를 리턴\n",
    "    return visited"
   ]
  },
  {
   "cell_type": "code",
   "execution_count": 2,
   "metadata": {},
   "outputs": [
    {
     "name": "stdout",
     "output_type": "stream",
     "text": [
      "['A', 'B', 'D', 'E', 'F', 'C', 'G', 'H', 'I', 'J']\n"
     ]
    }
   ],
   "source": [
    "graph = dict()\n",
    "\n",
    "graph['A'] = ['B', 'C']\n",
    "graph['B'] = ['A', 'D']\n",
    "graph['C'] = ['A', 'G', 'H', 'I']\n",
    "graph['D'] = ['B', 'E', 'F']\n",
    "graph['E'] = ['D']\n",
    "graph['F'] = ['D']\n",
    "graph['G'] = ['C']\n",
    "graph['H'] = ['C']\n",
    "graph['I'] = ['C', 'J']\n",
    "graph['J'] = ['I']\n",
    "\n",
    "print(dfs(graph, \"A\"))"
   ]
  },
  {
   "cell_type": "code",
   "execution_count": null,
   "metadata": {},
   "outputs": [],
   "source": []
  }
 ],
 "metadata": {
  "kernelspec": {
   "display_name": "Python 3",
   "language": "python",
   "name": "python3"
  },
  "language_info": {
   "codemirror_mode": {
    "name": "ipython",
    "version": 3
   },
   "file_extension": ".py",
   "mimetype": "text/x-python",
   "name": "python",
   "nbconvert_exporter": "python",
   "pygments_lexer": "ipython3",
   "version": "3.11.0"
  }
 },
 "nbformat": 4,
 "nbformat_minor": 2
}
