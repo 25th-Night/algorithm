{
 "cells": [
  {
   "cell_type": "code",
   "execution_count": 1,
   "metadata": {},
   "outputs": [
    {
     "name": "stdout",
     "output_type": "stream",
     "text": [
      "[97, 48, 69, 32, 51, 55, 22, 35, 90, 70, 43, 34, 5, 84, 73, 26, 30, 28, 11, 18, 87, 33, 0, 71, 29, 42, 17, 31, 7, 44, 6, 25, 75, 23, 38, 47, 15, 46, 24, 92, 45, 95, 3, 20, 59, 13, 27, 85, 39, 99]\n",
      "------------------------\n",
      "[0, 3, 5, 6, 7, 11, 13, 15, 17, 18, 20, 22, 23, 24, 25, 26, 27, 28, 29, 30, 31, 32, 33, 34, 35, 38, 39, 42, 43, 44, 45, 46, 47, 48, 51, 55, 59, 69, 70, 71, 73, 75, 84, 85, 87, 90, 92, 95, 97, 99]\n"
     ]
    }
   ],
   "source": [
    "def bubble_sort(data: list):\n",
    "    # 주어진 데이터를 for문을 통해 반복\n",
    "\n",
    "        # 데이터 교환 여부를 체크할 변수 선언\n",
    "\n",
    "        # 현재 데이터의 다음 데이터부터 끝까지 반복\n",
    "\n",
    "            # 현재 데이터가 비교 데이터보다 크다면\n",
    "\n",
    "                # 두 데이터의 값을 교환\n",
    "\n",
    "                # 데이터 교환 여부를 True로 변경\n",
    "\n",
    "        # 데이터가 변경되지 않았다면, 반복문 종료\n",
    "\n",
    "    # 데이터 반환\n",
    "\n",
    "\n",
    "\n",
    "import random\n",
    "\n",
    "data_list = random.sample(range(100), 50)\n",
    "print(data_list)\n",
    "print(\"------------------------\")\n",
    "print (bubble_sort(data_list))\n"
   ]
  },
  {
   "cell_type": "code",
   "execution_count": null,
   "metadata": {},
   "outputs": [],
   "source": []
  }
 ],
 "metadata": {
  "kernelspec": {
   "display_name": "Python 3",
   "language": "python",
   "name": "python3"
  },
  "language_info": {
   "codemirror_mode": {
    "name": "ipython",
    "version": 3
   },
   "file_extension": ".py",
   "mimetype": "text/x-python",
   "name": "python",
   "nbconvert_exporter": "python",
   "pygments_lexer": "ipython3",
   "version": "3.11.0"
  }
 },
 "nbformat": 4,
 "nbformat_minor": 2
}
