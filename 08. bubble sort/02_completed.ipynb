{
 "cells": [
  {
   "cell_type": "code",
   "execution_count": 1,
   "metadata": {},
   "outputs": [
    {
     "name": "stdout",
     "output_type": "stream",
     "text": [
      "[18, 23, 76, 57, 31, 43, 38, 21, 32, 64, 98, 10, 37, 86, 55, 7, 54, 20, 6, 45, 74, 58, 12, 59, 14, 65, 30, 19, 88, 97, 62, 24, 80, 13, 75, 34, 94, 39, 9, 79, 16, 22, 78, 15, 40, 89, 85, 90, 44, 48]\n",
      "------------------------\n",
      "[6, 7, 9, 10, 12, 13, 14, 15, 16, 18, 19, 20, 21, 22, 23, 24, 30, 31, 32, 34, 37, 38, 39, 40, 43, 44, 45, 48, 54, 55, 57, 58, 59, 62, 64, 65, 74, 75, 76, 78, 79, 80, 85, 86, 88, 89, 90, 94, 97, 98]\n"
     ]
    }
   ],
   "source": [
    "def bubble_sort(data: list):\n",
    "    # 전체 데이터 수에 대해 순회\n",
    "    for i in range(len(data)):\n",
    "        # 데이터 교환 여부를 체크할 변수 선언\n",
    "        swap = False\n",
    "        # 처음부터 지정된 순서까지 반복\n",
    "        for j in range(len(data)-1-i):\n",
    "            # 만약 현재 데이터가 다음 데이터보다 크다면\n",
    "            if data[j] > data[j+1]:\n",
    "                # 데이터 교환 여부를 True로 지정\n",
    "                swap = True\n",
    "                # 두 데이터의 값을 교환\n",
    "                data[j], data[j+1] = data[j+1], data[j]\n",
    "        # 데이터 교환이 되지 않았다면\n",
    "        if not swap:\n",
    "            # 반복을 멈춤\n",
    "            break\n",
    "    \n",
    "    # 배열을 반환\n",
    "    return data\n",
    "\n",
    "\n",
    "\n",
    "import random\n",
    "\n",
    "data_list = random.sample(range(100), 50)\n",
    "print(data_list)\n",
    "print(\"------------------------\")\n",
    "print (bubble_sort(data_list))\n"
   ]
  },
  {
   "cell_type": "code",
   "execution_count": null,
   "metadata": {},
   "outputs": [],
   "source": []
  }
 ],
 "metadata": {
  "kernelspec": {
   "display_name": "Python 3",
   "language": "python",
   "name": "python3"
  },
  "language_info": {
   "codemirror_mode": {
    "name": "ipython",
    "version": 3
   },
   "file_extension": ".py",
   "mimetype": "text/x-python",
   "name": "python",
   "nbconvert_exporter": "python",
   "pygments_lexer": "ipython3",
   "version": "3.11.0"
  }
 },
 "nbformat": 4,
 "nbformat_minor": 2
}
