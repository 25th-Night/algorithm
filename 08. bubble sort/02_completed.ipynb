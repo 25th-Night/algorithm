{
 "cells": [
  {
   "cell_type": "code",
   "execution_count": 1,
   "metadata": {},
   "outputs": [
    {
     "name": "stdout",
     "output_type": "stream",
     "text": [
      "[43, 21, 2, 14, 75, 19, 34, 49, 95, 6, 5, 87, 48, 4, 90, 76, 11, 39, 80, 51, 1, 98, 33, 38, 59, 25, 12, 53, 64, 97, 29, 31, 91, 26, 89, 72, 56, 28, 32, 37, 20, 71, 0, 30, 46, 63, 99, 35, 45, 84]\n",
      "------------------------\n",
      "[0, 1, 2, 4, 5, 6, 11, 12, 14, 19, 20, 21, 25, 26, 28, 29, 30, 31, 32, 33, 34, 35, 37, 38, 39, 43, 45, 46, 48, 49, 51, 53, 56, 59, 63, 64, 71, 72, 75, 76, 80, 87, 89, 90, 91, 95, 97, 98, 99, 84]\n"
     ]
    }
   ],
   "source": [
    "def bubble_sort(data: list):\n",
    "    # 주어진 데이터를 for문을 통해 반복\n",
    "    for i in range(len(data)-1):\n",
    "        # 데이터 교환 여부를 체크할 변수 선언\n",
    "        swap = False\n",
    "        # 현재 데이터의 다음 데이터부터 끝까지 반복\n",
    "        for j in range(1, len(data)-1-i):\n",
    "            # 현재 데이터가 비교 데이터보다 크다면\n",
    "            if data[i] > data[i+j]:\n",
    "                # 두 데이터의 값을 교환\n",
    "                data[i], data[i+j] = data[i+j], data[i]\n",
    "                # 데이터 교환 여부를 True로 변경\n",
    "                swap = True\n",
    "        # 데이터가 변경되지 않았다면, 반복문 종료\n",
    "        if swap == False:\n",
    "            break\n",
    "    # 데이터 반환\n",
    "    return data\n",
    "\n",
    "\n",
    "import random\n",
    "\n",
    "data_list = random.sample(range(100), 50)\n",
    "print(data_list)\n",
    "print(\"------------------------\")\n",
    "print (bubble_sort(data_list))\n"
   ]
  },
  {
   "cell_type": "code",
   "execution_count": null,
   "metadata": {},
   "outputs": [],
   "source": []
  }
 ],
 "metadata": {
  "kernelspec": {
   "display_name": "Python 3",
   "language": "python",
   "name": "python3"
  },
  "language_info": {
   "codemirror_mode": {
    "name": "ipython",
    "version": 3
   },
   "file_extension": ".py",
   "mimetype": "text/x-python",
   "name": "python",
   "nbconvert_exporter": "python",
   "pygments_lexer": "ipython3",
   "version": "3.11.0"
  }
 },
 "nbformat": 4,
 "nbformat_minor": 2
}
