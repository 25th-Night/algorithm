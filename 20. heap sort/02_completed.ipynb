{
 "cells": [
  {
   "cell_type": "code",
   "execution_count": 3,
   "metadata": {},
   "outputs": [
    {
     "name": "stdout",
     "output_type": "stream",
     "text": [
      "[82, 59, 29, 56, 14, 81, 42, 23, 64, 41, 35, 92, 79, 51, 68, 49, 33, 74, 6, 86, 48, 32, 54, 97, 72, 57, 7, 69, 44, 63, 94, 8, 22, 24, 15, 78, 21, 75, 34, 4, 37, 70, 17, 13, 3, 61, 62, 60, 0, 47]\n",
      "------------------------\n",
      "[0, 3, 4, 6, 7, 8, 13, 14, 15, 17, 21, 22, 23, 24, 29, 32, 33, 34, 35, 37, 41, 42, 44, 47, 48, 49, 51, 54, 56, 57, 59, 60, 61, 62, 63, 64, 68, 69, 70, 72, 74, 75, 78, 79, 81, 82, 86, 92, 94, 97]\n"
     ]
    }
   ],
   "source": [
    "def heapify(arr, n, i):\n",
    "    # 루트 노드의 idx를 선언\n",
    "    largest = i\n",
    "    # 왼쪽 자식 노드의 idx를 선언\n",
    "    left_child = 2 * i + 1\n",
    "    # 오른쪽 자식 노드의 idx를 선언\n",
    "    right_child = 2 * i + 2 \n",
    "\n",
    "    # 왼쪽 자식 노드의 idx가 유효하고 왼쪽 자식이 루트보다 크다면\n",
    "    if left_child < n and arr[left_child] > arr[largest]:\n",
    "        # 루트 노드의 idx를 왼쪽 자식 노드의 idx로 변경\n",
    "        largest = left_child\n",
    "\n",
    "    # 왼쪽 자식 노드의 idx가 유효하고 오른쪽 자식이 루트보다 크다면\n",
    "    if right_child < n and arr[right_child] > arr[largest]:\n",
    "        # 루트 노드의 idx를 오른쪽 자식 노드의 idx로 변경\n",
    "        largest = right_child\n",
    "\n",
    "    # 루트 노드가 가장 큰 값이 아니어서 루트 노드의 idx가 변경되었다면\n",
    "    if largest != i:\n",
    "        # 루트 노드의 값을 가장 큰 값으로 변경\n",
    "        arr[i], arr[largest] = arr[largest], arr[i]\n",
    "        # 재귀 호출로 다시 최대 힙을 구성\n",
    "        heapify(arr, n, largest)\n",
    "\n",
    "def heap_sort(arr):\n",
    "    # 전체 배열의 수를 변수에 할당\n",
    "    n = len(arr)\n",
    "\n",
    "    # 배열의 중간부터 처음까지 반복\n",
    "    for i in range(n // 2 - 1, -1, -1):\n",
    "        # 선언한 함수를 호출하여 i를 루트로 하는 서브트리를 최대 힙으로 생성\n",
    "        heapify(arr, n, i)\n",
    "\n",
    "    # 마지막 idx부터 역순으로 반복\n",
    "    for i in range(n - 1, 0, -1):\n",
    "        # 루트(최대 값)를 추출하여 현재 idx의 값과 교환\n",
    "        arr[i], arr[0] = arr[0], arr[i]  \n",
    "        # 추출된 원소를 제외한 부분에서 다시 힙을 구성\n",
    "        heapify(arr, i, 0)\n",
    "\n",
    "    # 정렬이 완료된 배열을 반환\n",
    "    return arr\n",
    "\n",
    "\n",
    "import random\n",
    "\n",
    "data_list = random.sample(range(100), 50)\n",
    "print(data_list)\n",
    "print(\"------------------------\")\n",
    "print (heap_sort(data_list))"
   ]
  },
  {
   "cell_type": "code",
   "execution_count": null,
   "metadata": {},
   "outputs": [],
   "source": []
  }
 ],
 "metadata": {
  "kernelspec": {
   "display_name": "Python 3",
   "language": "python",
   "name": "python3"
  },
  "language_info": {
   "codemirror_mode": {
    "name": "ipython",
    "version": 3
   },
   "file_extension": ".py",
   "mimetype": "text/x-python",
   "name": "python",
   "nbconvert_exporter": "python",
   "pygments_lexer": "ipython3",
   "version": "3.11.0"
  }
 },
 "nbformat": 4,
 "nbformat_minor": 2
}
