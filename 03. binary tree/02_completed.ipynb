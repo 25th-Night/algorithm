{
 "cells": [
  {
   "cell_type": "markdown",
   "metadata": {},
   "source": [
    "# Linked List"
   ]
  },
  {
   "cell_type": "code",
   "execution_count": null,
   "metadata": {},
   "outputs": [],
   "source": [
    "class Node():\n",
    "\tdef __init__(self, data):\n",
    "\t\tself.data = data\n",
    "\t\tself.left = None\n",
    "\t\tself.right = None\n",
    "\n",
    "class BinaryTree():\n",
    "\tdef __init__(self, Node):\n",
    "\t\tself.root = Node\n",
    "\n",
    "# 전위 순회\n",
    "def preorder(node):\n",
    "\tif node:\n",
    "\t\tprint(node.data)\n",
    "\t\tpreorder(node.left)\n",
    "\t\tpreorder(node.right)\n",
    "\t\n",
    "\n",
    "# 중위 순회\n",
    "def inorder(node):\n",
    "\tif node:\n",
    "\t\tinorder(node.left)\n",
    "\t\tprint(node.data)\n",
    "\t\tinorder(node.right)\n",
    "\n",
    "# 후위 순회\n",
    "def postorder(node):\n",
    "\tpostorder(node.left)\n",
    "\tpostorder(node.right)\n",
    "\tprint(node.data)"
   ]
  }
 ],
 "metadata": {
  "language_info": {
   "name": "python"
  }
 },
 "nbformat": 4,
 "nbformat_minor": 2
}
