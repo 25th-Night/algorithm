{
 "cells": [
  {
   "cell_type": "code",
   "execution_count": null,
   "metadata": {},
   "outputs": [],
   "source": [
    "class Node():\n",
    "    def __init__(self, data):\n",
    "        pass\n",
    "\n",
    "# 전위 순회 (pre order)\n",
    "def pre_order(node):\n",
    "    pass\n",
    "\t\n",
    "\n",
    "# 중위 순회 (in order)\n",
    "def in_order(node):\n",
    "    pass\n",
    "\n",
    "# 후위 순회 (post order)\n",
    "def post_order(node):\n",
    "    pass\n",
    "\t\t\n",
    "# 수준 순회 (level order)\n",
    "from collections import deque\n",
    "\n",
    "def level_order(node):\n",
    "    pass\n",
    "\n",
    "# 지그재그 순회 (zigzag order)\n",
    "def ziazag_order(node):\n",
    "    pass\n",
    "\n",
    "\n",
    "# 이진 트리 생성\n",
    "root = Node(1)\n",
    "root.left = Node(2)\n",
    "root.right = Node(3)\n",
    "root.left.left = Node(4)\n",
    "root.left.right = Node(5)\n",
    "root.right.left = Node(6)\n",
    "root.right.right = Node(7)\n",
    "\n",
    "\n",
    "pre_order(root)\n",
    "print(\"----------\")\n",
    "in_order(root)\n",
    "print(\"----------\")\n",
    "post_order(root)\n",
    "print(\"----------\")\n",
    "level_order(root)\n",
    "print(\"----------\")\n",
    "ziazag_order(root)\n",
    "\n"
   ]
  }
 ],
 "metadata": {
  "language_info": {
   "name": "python"
  }
 },
 "nbformat": 4,
 "nbformat_minor": 2
}
