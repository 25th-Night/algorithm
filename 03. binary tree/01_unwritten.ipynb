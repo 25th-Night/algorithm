{
 "cells": [
  {
   "cell_type": "code",
   "execution_count": null,
   "metadata": {},
   "outputs": [],
   "source": [
    "class Node():\n",
    "\tdef __init__(self, data):\n",
    "\t\t...\n",
    "\n",
    "class BinaryTree():\n",
    "\tdef __init__(self, Node):\n",
    "\t\t...\n",
    "\n",
    "# 전위 순회\n",
    "def preorder(node):\n",
    "\t...\n",
    "\n",
    "# 중위 순회\n",
    "def inorder(node):\n",
    "\t...\n",
    "\n",
    "# 후위 순회\n",
    "def postorder(node):\n",
    "\t..."
   ]
  }
 ],
 "metadata": {
  "language_info": {
   "name": "python"
  }
 },
 "nbformat": 4,
 "nbformat_minor": 2
}
