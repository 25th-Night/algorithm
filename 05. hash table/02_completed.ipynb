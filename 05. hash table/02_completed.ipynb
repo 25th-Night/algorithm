{
 "cells": [
  {
   "cell_type": "code",
   "execution_count": null,
   "metadata": {},
   "outputs": [],
   "source": [
    "# 해시테이블\n",
    "\n",
    "# hashlib : https://docs.python.org/ko/3/library/hashlib.html\n",
    "import hashlib\n",
    "\n",
    "class HashTable():\n",
    "\tdef __init__(self):\n",
    "        # 해시 테이블을 초기화\n",
    "        self.table = {}\n",
    "\n",
    "\tdef put(self, key):\n",
    "        # 입력된 키를 바이트 형태로 인코딩\n",
    "        key_encode = key.encode()\n",
    "        # SHA-256 해시 함수를 사용하여 해시값 계산\n",
    "        value = hashlib.sha256(key_encode).hexdigest()\n",
    "        # 계산된 해시값을 해당 키의 값으로 설정하여 해시 테이블에 저장\n",
    "        self.table[key] = value\n",
    "\n",
    "\n",
    "\tdef printTable(self):\n",
    "        # 해시 테이블 내의 모든 키-값 쌍을 출력\n",
    "        for key in self.table:\n",
    "            print(f\"{key} : {self.table[key]}\")\n",
    "\n",
    "\tdef remove(self, key):\n",
    "        # 지정된 키를 사용하여 해당하는 키-값 쌍을 해시 테이블에서 삭제\n",
    "        del self.table[key]"
   ]
  }
 ],
 "metadata": {
  "language_info": {
   "name": "python"
  }
 },
 "nbformat": 4,
 "nbformat_minor": 2
}
