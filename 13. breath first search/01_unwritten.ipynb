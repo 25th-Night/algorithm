{
 "cells": [
  {
   "cell_type": "code",
   "execution_count": null,
   "metadata": {},
   "outputs": [],
   "source": [
    "from collections import deque\n",
    "\n",
    "def bfs(graph, start):\n",
    "    # 방문 예정 큐 선언\n",
    "\n",
    "    # 방문 완료 리스트 선언\n",
    "\n",
    "\n",
    "    # 방문 예정 지점이 남은 경우 반복\n",
    "\n",
    "        # 방문할 지점을 가장 처음 지점으로 추출\n",
    "\n",
    "        # 해당 지점을 방문 완료하지 않았다면\n",
    "\n",
    "            # 방문 완료 처리\n",
    "\n",
    "            # 해당 지점과 연결된 지점들을 방문 예정 큐에 추가\n",
    "\n",
    "    \n",
    "    # 방문 완료 리스트를 리턴\n"
   ]
  },
  {
   "cell_type": "code",
   "execution_count": null,
   "metadata": {},
   "outputs": [],
   "source": [
    "graph = dict()\n",
    "\n",
    "graph['A'] = ['B', 'C']\n",
    "graph['B'] = ['A', 'D']\n",
    "graph['C'] = ['A', 'G', 'H', 'I']\n",
    "graph['D'] = ['B', 'E', 'F']\n",
    "graph['E'] = ['D']\n",
    "graph['F'] = ['D']\n",
    "graph['G'] = ['C']\n",
    "graph['H'] = ['C']\n",
    "graph['I'] = ['C', 'J']\n",
    "graph['J'] = ['I']\n",
    "\n",
    "print(bfs(graph, \"A\"))"
   ]
  }
 ],
 "metadata": {
  "language_info": {
   "name": "python"
  }
 },
 "nbformat": 4,
 "nbformat_minor": 2
}
