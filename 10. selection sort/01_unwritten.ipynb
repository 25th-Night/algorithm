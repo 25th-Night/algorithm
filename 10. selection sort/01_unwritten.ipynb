{
 "cells": [
  {
   "cell_type": "code",
   "execution_count": null,
   "metadata": {},
   "outputs": [],
   "source": [
    "def selection_sort(data):\n",
    "    # 주어진 데이터를 for문을 통해 반복\n",
    "\n",
    "        # 가장 작은 값의 idx를 현재 idx로 지정\n",
    "\n",
    "        # 현재의 다음 데이터부터 끝까지 반복\n",
    "\n",
    "            # 현재까지 가장 작은 값이 지금 순서의 값보다 크다면\n",
    "\n",
    "                # 가장 작은 값의 idx를 지금 idx로 지정\n",
    "\n",
    "        # 이전까지의 가장 작은 값과 지금 값의 위치를 교환\n",
    "\n",
    "    \n",
    "    # 반복이 종료되면 데이터 반환\n",
    "\n",
    "\n",
    "\n",
    "\n",
    "import random\n",
    "\n",
    "data_list = random.sample(range(100), 50)\n",
    "print(data_list)\n",
    "print(\"------------------------\")\n",
    "print (selection_sort(data_list))"
   ]
  }
 ],
 "metadata": {
  "language_info": {
   "name": "python"
  }
 },
 "nbformat": 4,
 "nbformat_minor": 2
}
