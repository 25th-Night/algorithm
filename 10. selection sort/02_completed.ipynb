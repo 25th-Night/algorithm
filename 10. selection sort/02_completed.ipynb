{
 "cells": [
  {
   "cell_type": "code",
   "execution_count": 1,
   "metadata": {},
   "outputs": [
    {
     "name": "stdout",
     "output_type": "stream",
     "text": [
      "[61, 79, 64, 48, 12, 78, 18, 23, 73, 98, 65, 59, 96, 83, 10, 87, 44, 75, 31, 41, 34, 57, 14, 39, 9, 6, 70, 46, 29, 68, 33, 47, 58, 99, 88, 84, 90, 49, 2, 76, 43, 19, 0, 22, 77, 27, 95, 21, 60, 42]\n",
      "------------------------\n",
      "[61, 79, 64, 48, 12, 78, 18, 23, 73, 98, 65, 59, 96, 83, 10, 87, 44, 75, 31, 41, 34, 57, 14, 39, 9, 6, 70, 46, 29, 68, 33, 47, 58, 99, 88, 84, 90, 49, 2, 76, 43, 19, 42, 22, 77, 27, 95, 21, 60, 0]\n"
     ]
    }
   ],
   "source": [
    "def selection_sort(data):\n",
    "    # 주어진 데이터를 for문을 통해 반복\n",
    "    for i in range(len(data) - 1):\n",
    "        # 가장 작은 값의 idx를 현재 idx로 지정\n",
    "        lowest = i\n",
    "        # 현재의 다음 데이터부터 끝까지 반복\n",
    "        for j in range(i + 1, len(data)):\n",
    "            # 현재까지 가장 작은 값이 지금 순서의 값보다 크다면\n",
    "            if data[lowest] > data[j]:\n",
    "                # 가장 작은 값의 idx를 지금 idx로 지정\n",
    "                lowest = j\n",
    "        # 이전까지의 가장 작은 값과 지금 값의 위치를 교환\n",
    "        data[lowest], data[i] = data[i], data[lowest]\n",
    "    \n",
    "    # 반복이 종료되면 데이터 반환\n",
    "    return data\n",
    "\n",
    "\n",
    "\n",
    "import random\n",
    "\n",
    "data_list = random.sample(range(100), 50)\n",
    "print(data_list)\n",
    "print(\"------------------------\")\n",
    "print (selection_sort(data_list))"
   ]
  },
  {
   "cell_type": "code",
   "execution_count": null,
   "metadata": {},
   "outputs": [],
   "source": []
  }
 ],
 "metadata": {
  "kernelspec": {
   "display_name": "Python 3",
   "language": "python",
   "name": "python3"
  },
  "language_info": {
   "codemirror_mode": {
    "name": "ipython",
    "version": 3
   },
   "file_extension": ".py",
   "mimetype": "text/x-python",
   "name": "python",
   "nbconvert_exporter": "python",
   "pygments_lexer": "ipython3",
   "version": "3.11.0"
  }
 },
 "nbformat": 4,
 "nbformat_minor": 2
}
