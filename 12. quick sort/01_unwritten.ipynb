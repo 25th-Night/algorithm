{
 "cells": [
  {
   "cell_type": "code",
   "execution_count": null,
   "metadata": {},
   "outputs": [],
   "source": [
    "def quick_sort(data):\n",
    "    # 데이터가 한개 이하이면 그대로 리턴\n",
    "    \n",
    "    # 기준 값보다 작은 값을 담을 리스트, 그 외 값을 담을 리스트를 각각 빈 리스트로 선언\n",
    "\n",
    "    # 기준 값을 현재 데이터의 첫 번째 요소로 지정\n",
    "\n",
    "\n",
    "    # 두 번째 요소부터 끝까지 반복\n",
    "\n",
    "        # 해당 요소가 기준 값보다 작으면 left에 추가\n",
    "\n",
    "        # 그 외의 경우에는 right에 추가\n",
    "\n",
    "    \n",
    "    # 재귀 호출을 통해 하나의 리스트로 합쳐서 리턴\n",
    "\n",
    "\n",
    "\n",
    "\n",
    "import random\n",
    "\n",
    "data_list = random.sample(range(100), 50)\n",
    "print(data_list)\n",
    "print(\"------------------------\")\n",
    "print (quick_sort(data_list))"
   ]
  }
 ],
 "metadata": {
  "language_info": {
   "name": "python"
  }
 },
 "nbformat": 4,
 "nbformat_minor": 2
}
