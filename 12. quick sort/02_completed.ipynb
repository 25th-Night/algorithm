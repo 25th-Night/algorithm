{
 "cells": [
  {
   "cell_type": "code",
   "execution_count": 3,
   "metadata": {},
   "outputs": [
    {
     "name": "stdout",
     "output_type": "stream",
     "text": [
      "[17, 74, 73, 24, 13, 2, 53, 88, 37, 23, 94, 68, 51, 71, 93, 55, 15, 62, 27, 10, 45, 35, 90, 84, 92, 44, 64, 33, 22, 46, 7, 12, 29, 8, 34, 21, 6, 82, 47, 76, 66, 0, 59, 80, 72, 65, 14, 54, 42, 19]\n",
      "------------------------\n",
      "[0, 2, 6, 7, 8, 10, 12, 13, 14, 15, 17, 19, 21, 22, 23, 24, 27, 29, 33, 34, 35, 37, 42, 44, 45, 46, 47, 51, 53, 54, 55, 59, 62, 64, 65, 66, 68, 71, 72, 73, 74, 76, 80, 82, 84, 88, 90, 92, 93, 94]\n"
     ]
    }
   ],
   "source": [
    "def quick_sort(data):\n",
    "    # 데이터가 한개 이하이면 그대로 리턴\n",
    "    if len(data) <= 1:\n",
    "        return data\n",
    "    \n",
    "    # 기준 값보다 작은 값을 담을 리스트, 그 외 값을 담을 리스트를 각각 빈 리스트로 선언\n",
    "    left, right = list(), list()\n",
    "    # 기준 값을 현재 데이터의 첫 번째 요소로 지정\n",
    "    pivot = data[0]\n",
    "\n",
    "    # 두 번째 요소부터 끝까지 반복\n",
    "    for i in range(1, len(data)):\n",
    "        # 해당 요소가 기준 값보다 작으면 left에 추가\n",
    "        if data[i] < pivot:\n",
    "            left.append(data[i])\n",
    "        # 그 외의 경우에는 right에 추가\n",
    "        else:\n",
    "            right.append(data[i])\n",
    "    \n",
    "    # 재귀 호출을 통해 하나의 리스트로 합쳐서 리턴\n",
    "    return quick_sort(left) + [pivot] + quick_sort(right)\n",
    "\n",
    "\n",
    "\n",
    "import random\n",
    "\n",
    "data_list = random.sample(range(100), 50)\n",
    "print(data_list)\n",
    "print(\"------------------------\")\n",
    "print (quick_sort(data_list))"
   ]
  },
  {
   "cell_type": "code",
   "execution_count": null,
   "metadata": {},
   "outputs": [],
   "source": []
  }
 ],
 "metadata": {
  "kernelspec": {
   "display_name": "Python 3",
   "language": "python",
   "name": "python3"
  },
  "language_info": {
   "codemirror_mode": {
    "name": "ipython",
    "version": 3
   },
   "file_extension": ".py",
   "mimetype": "text/x-python",
   "name": "python",
   "nbconvert_exporter": "python",
   "pygments_lexer": "ipython3",
   "version": "3.11.0"
  }
 },
 "nbformat": 4,
 "nbformat_minor": 2
}
