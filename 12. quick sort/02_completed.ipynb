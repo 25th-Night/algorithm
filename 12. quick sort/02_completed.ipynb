{
 "cells": [
  {
   "cell_type": "code",
   "execution_count": 3,
   "metadata": {},
   "outputs": [
    {
     "name": "stdout",
     "output_type": "stream",
     "text": [
      "[17, 74, 73, 24, 13, 2, 53, 88, 37, 23, 94, 68, 51, 71, 93, 55, 15, 62, 27, 10, 45, 35, 90, 84, 92, 44, 64, 33, 22, 46, 7, 12, 29, 8, 34, 21, 6, 82, 47, 76, 66, 0, 59, 80, 72, 65, 14, 54, 42, 19]\n",
      "------------------------\n",
      "[0, 2, 6, 7, 8, 10, 12, 13, 14, 15, 17, 19, 21, 22, 23, 24, 27, 29, 33, 34, 35, 37, 42, 44, 45, 46, 47, 51, 53, 54, 55, 59, 62, 64, 65, 66, 68, 71, 72, 73, 74, 76, 80, 82, 84, 88, 90, 92, 93, 94]\n"
     ]
    }
   ],
   "source": [
    "def quick_sort(data):\n",
    "    # 데이터가 한개 이하이면 그대로 리턴\n",
    "    if len(data) <= 1:\n",
    "        return data\n",
    "    \n",
    "    # 기준 값보다 작은 값을 담을 리스트, 그 외 값을 담을 리스트를 각각 빈 리스트로 선언\n",
    "    left, right = list(), list()\n",
    "    # 기준 값을 현재 데이터의 첫 번째 요소로 지정\n",
    "    pivot = data[0]\n",
    "\n",
    "    # 두 번째 요소부터 끝까지 반복\n",
    "    for i in range(1, len(data)):\n",
    "        # 해당 요소가 기준 값보다 작으면 left에 추가\n",
    "        if data[i] < pivot:\n",
    "            left.append(data[i])\n",
    "        # 그 외의 경우에는 right에 추가\n",
    "        else:\n",
    "            right.append(data[i])\n",
    "    \n",
    "    # 재귀 호출을 통해 하나의 리스트로 합쳐서 리턴\n",
    "    return quick_sort(left) + [pivot] + quick_sort(right)\n",
    "\n",
    "\n",
    "\n",
    "import random\n",
    "\n",
    "data_list = random.sample(range(100), 50)\n",
    "print(data_list)\n",
    "print(\"------------------------\")\n",
    "print (quick_sort(data_list))"
   ]
  },
  {
   "cell_type": "code",
   "execution_count": 14,
   "metadata": {},
   "outputs": [
    {
     "name": "stdout",
     "output_type": "stream",
     "text": [
      "[38, 30, 69, 74, 89, 91, 31, 40, 72, 27, 36, 93, 48, 10, 54, 44, 97, 47, 33, 68, 63, 58, 5, 70, 84, 21, 87, 23, 66, 82, 14, 29, 1, 75, 18, 50, 77, 64, 59, 73, 46, 62, 80, 39, 78, 76, 61, 86, 85, 6]\n",
      "------------------------\n",
      "[1, 5, 6, 10, 14, 18, 21, 23, 27, 29, 30, 31, 33, 36, 38, 39, 40, 44, 46, 47, 48, 50, 54, 58, 59, 61, 62, 63, 64, 66, 68, 69, 70, 72, 73, 74, 75, 76, 77, 78, 80, 82, 84, 85, 86, 87, 89, 91, 93, 97]\n"
     ]
    }
   ],
   "source": [
    "def quick_sort(arr, first, last):\n",
    "    # 기저 조건: 정렬할 부분 배열의 크기가 1 이하면 종료\n",
    "    if first >= last:\n",
    "        return\n",
    "\n",
    "    # 피벗 선택 (여기에서는 첫 번째 원소를 피벗으로 선택)\n",
    "    pivot = arr[first]\n",
    "    left = first + 1\n",
    "    right = last\n",
    "\n",
    "    # left와 right가 교차하지 않을 때까지 반복\n",
    "    while left <= right:\n",
    "        # 피벗보다 큰 값을 찾을 때까지 left 증가\n",
    "        while left <= last and pivot > arr[left]:\n",
    "            left += 1\n",
    "\n",
    "        # 피벗보다 작은 값을 찾을 때까지 right 감소\n",
    "        while pivot < arr[right]:\n",
    "            right -= 1\n",
    "\n",
    "        # left와 right가 교차하지 않으면 두 값을 교환\n",
    "        if left <= right:\n",
    "            arr[left], arr[right] = arr[right], arr[left]\n",
    "            left += 1\n",
    "            right -= 1\n",
    "\n",
    "    # 피벗 위치 변경\n",
    "    arr[first], arr[right] = arr[right], arr[first]\n",
    "\n",
    "    # 피벗을 기준으로 왼쪽과 오른쪽 부분 배열에 대해 재귀 호출\n",
    "    quick_sort(arr, first, right - 1)\n",
    "    quick_sort(arr, left, last)\n",
    "\n",
    "\n",
    "\n",
    "import random\n",
    "\n",
    "data_list = random.sample(range(100), 50)\n",
    "print(data_list)\n",
    "print(\"------------------------\")\n",
    "quick_sort(data_list, 0, len(data_list)-1)\n",
    "print (data_list)"
   ]
  },
  {
   "cell_type": "code",
   "execution_count": null,
   "metadata": {},
   "outputs": [],
   "source": []
  }
 ],
 "metadata": {
  "kernelspec": {
   "display_name": "Python 3",
   "language": "python",
   "name": "python3"
  },
  "language_info": {
   "codemirror_mode": {
    "name": "ipython",
    "version": 3
   },
   "file_extension": ".py",
   "mimetype": "text/x-python",
   "name": "python",
   "nbconvert_exporter": "python",
   "pygments_lexer": "ipython3",
   "version": "3.11.0"
  }
 },
 "nbformat": 4,
 "nbformat_minor": 2
}
