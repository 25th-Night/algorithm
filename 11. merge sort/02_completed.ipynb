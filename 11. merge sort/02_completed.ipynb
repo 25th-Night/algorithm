{
 "cells": [
  {
   "cell_type": "code",
   "execution_count": 1,
   "metadata": {},
   "outputs": [
    {
     "name": "stdout",
     "output_type": "stream",
     "text": [
      "[68, 92, 54, 20, 41, 84, 39, 83, 51, 71, 49, 99, 64, 79, 29, 24, 60, 22, 56, 1, 98, 53, 7, 28, 33, 38, 18, 44, 40, 47, 23, 3, 35, 81, 5, 17, 74, 73, 12, 69, 88, 31, 26, 66, 96, 58, 59, 75, 43, 19]\n",
      "------------------------\n",
      "[1, 3, 5, 7, 12, 17, 18, 19, 20, 22, 23, 24, 26, 28, 29, 31, 33, 35, 38, 39, 40, 41, 43, 44, 47, 49, 51, 53, 54, 56, 58, 59, 60, 64, 66, 68, 69, 71, 73, 74, 75, 79, 81, 83, 84, 88, 92, 96, 98, 99]\n"
     ]
    }
   ],
   "source": [
    "# 두 리스트를 정렬하며 병합할 함수 선언\n",
    "def merge(left, right):\n",
    "    # 병합된 결과를 담을 빈 리스트 선언\n",
    "    merged = list()\n",
    "    # 왼쪽 리스트의 현재 idx, 오른쪽 리스트의 현재 idx를 각각 0으로 선언\n",
    "    left_idx, right_idx = 0, 0\n",
    "\n",
    "    # 왼쪽 리스트, 오른쪽 리스트 모두 끝까지 확인되지 않았다면 반복\n",
    "    while left_idx < len(left) and right_idx < len(right):\n",
    "        # 왼쪽 리스트의 현재 값이 오른쪽 리스트의 현재 값보다 크다면\n",
    "        if left[left_idx] > right[right_idx]:\n",
    "            # 결과 리스트에 오른쪽 리스트의 현재 값을 담음\n",
    "            merged.append(right[right_idx])\n",
    "            # 오른쪽 리스트의 현재 idx를 1 증가시킴\n",
    "            right_idx += 1\n",
    "        # 왼쪽 리스트의 현재 값보다 오른쪽 리스트의 현재 값이 크거나 같다면\n",
    "        else:\n",
    "            # 결과 리스트에 왼쪽 리스트의 현재 값을 담음\n",
    "            merged.append(left[left_idx])\n",
    "            # 왼쪽 리스트의 현재 idx를 1 증가시킴\n",
    "            left_idx += 1\n",
    "    \n",
    "    # 왼쪽 리스트만 끝까지 확인되지 않았다면\n",
    "    while left_idx < len(left):\n",
    "        # 결과 리스트에 왼쪽 리스트의 현재 값을 담음\n",
    "        merged.append(left[left_idx])\n",
    "        # 왼쪽 리스트의 현재 idx를 1 증가시킴\n",
    "        left_idx += 1\n",
    "\n",
    "    # 오른쪾 리스트만 끝까지 확인되지 않았다면\n",
    "    while right_idx < len(right):\n",
    "        # 결과 리스트에 오른쪾 리스트의 현재 값을 담음\n",
    "        merged.append(right[right_idx])\n",
    "        # 오른쪾 리스트의 현재 idx를 1 증가시킴\n",
    "        right_idx += 1\n",
    "    \n",
    "    # 병합이 완료된 리스트를 반환\n",
    "    return merged\n",
    "\n",
    "# 주어진 리스트를 쪼갠 후 병합 정렬할 함수 선언\n",
    "def merge_sort(data):\n",
    "    # 만약 주어진 데이터 개수가 1개 이하이면 그대로 반환\n",
    "    if len(data) <= 1:\n",
    "        return data\n",
    "    \n",
    "    # 현재 주어진 데이터의 중간 지점을 찾음\n",
    "    medium = int(len(data)//2)\n",
    "    # 중간 지점 이전까지의 데이터와 중간지점부터 끝까지의 데이터를 각각 선언하고, 재귀를 통해 계속 쪼갠 후 병합 정렬 실행\n",
    "    left = merge_sort(data[:medium])\n",
    "    right = merge_sort(data[medium:])\n",
    "\n",
    "    # 병합 정렬 함수를 이용하여 left와 right를 병합 정렬한 결과를 리턴\n",
    "    return merge(left, right)\n",
    "\n",
    "\n",
    "import random\n",
    "\n",
    "data_list = random.sample(range(100), 50)\n",
    "print(data_list)\n",
    "print(\"------------------------\")\n",
    "print (merge_sort(data_list))"
   ]
  },
  {
   "cell_type": "code",
   "execution_count": null,
   "metadata": {},
   "outputs": [],
   "source": []
  }
 ],
 "metadata": {
  "kernelspec": {
   "display_name": "Python 3",
   "language": "python",
   "name": "python3"
  },
  "language_info": {
   "codemirror_mode": {
    "name": "ipython",
    "version": 3
   },
   "file_extension": ".py",
   "mimetype": "text/x-python",
   "name": "python",
   "nbconvert_exporter": "python",
   "pygments_lexer": "ipython3",
   "version": "3.11.0"
  }
 },
 "nbformat": 4,
 "nbformat_minor": 2
}
