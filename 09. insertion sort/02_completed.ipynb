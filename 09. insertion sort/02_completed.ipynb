{
 "cells": [
  {
   "cell_type": "code",
   "execution_count": 2,
   "metadata": {},
   "outputs": [
    {
     "name": "stdout",
     "output_type": "stream",
     "text": [
      "[4, 51, 14, 70, 61, 82, 21, 27, 20, 0, 50, 78, 16, 6, 5, 11, 87, 66, 76, 39, 40, 84, 17, 33, 99, 62, 65, 85, 68, 86, 97, 83, 55, 56, 34, 23, 43, 24, 80, 2, 38, 35, 18, 47, 42, 28, 32, 91, 93, 41]\n",
      "------------------------\n",
      "[0, 2, 4, 5, 6, 11, 14, 16, 17, 18, 20, 21, 23, 24, 27, 28, 32, 33, 34, 35, 38, 39, 40, 41, 42, 43, 47, 50, 51, 55, 56, 61, 62, 65, 66, 68, 70, 76, 78, 80, 82, 83, 84, 85, 86, 87, 91, 93, 97, 99]\n"
     ]
    }
   ],
   "source": [
    "def insertion_sort(data):\n",
    "    # 주어진 데이터를 for문을 통해 반복\n",
    "    for i in range(len(data)-1):\n",
    "        # 현재 순서의 다음부터 처음까지 반복\n",
    "        for j in range(i + 1, 0, -1):\n",
    "            # 현재 순서의 데이터가 그 이전 데이터보다 작다면\n",
    "            if data[j] < data[j-1]:\n",
    "                # 데이터를 교환\n",
    "                data[j], data[j-1] = data[j-1], data[j]\n",
    "            # 그렇지 않다면 반복문 종료\n",
    "            else:\n",
    "                break\n",
    "    # 정렬이 완료된 데이터 반환\n",
    "    return data\n",
    "\n",
    "\n",
    "import random\n",
    "\n",
    "data_list = random.sample(range(100), 50)\n",
    "print(data_list)\n",
    "print(\"------------------------\")\n",
    "print (insertion_sort(data_list))"
   ]
  },
  {
   "cell_type": "code",
   "execution_count": null,
   "metadata": {},
   "outputs": [],
   "source": []
  }
 ],
 "metadata": {
  "kernelspec": {
   "display_name": "Python 3",
   "language": "python",
   "name": "python3"
  },
  "language_info": {
   "codemirror_mode": {
    "name": "ipython",
    "version": 3
   },
   "file_extension": ".py",
   "mimetype": "text/x-python",
   "name": "python",
   "nbconvert_exporter": "python",
   "pygments_lexer": "ipython3",
   "version": "3.11.0"
  }
 },
 "nbformat": 4,
 "nbformat_minor": 2
}
