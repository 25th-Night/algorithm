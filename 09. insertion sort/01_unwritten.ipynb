{
 "cells": [
  {
   "cell_type": "code",
   "execution_count": null,
   "metadata": {},
   "outputs": [],
   "source": [
    "def insertion_sort(data):\n",
    "    # 주어진 데이터를 for문을 통해 반복\n",
    "\n",
    "        # 현재 순서의 다음부터 처음까지 반복\n",
    "\n",
    "            # 현재 순서의 데이터가 그 이전 데이터보다 작다면\n",
    "\n",
    "                # 데이터를 교환\n",
    "\n",
    "            # 그렇지 않다면 반복문 종료\n",
    "\n",
    "    # 정렬이 완료된 데이터 반환\n",
    "\n",
    "\n",
    "\n",
    "import random\n",
    "\n",
    "data_list = random.sample(range(100), 50)\n",
    "print(data_list)\n",
    "print(\"------------------------\")\n",
    "print (insertion_sort(data_list))"
   ]
  }
 ],
 "metadata": {
  "language_info": {
   "name": "python"
  }
 },
 "nbformat": 4,
 "nbformat_minor": 2
}
