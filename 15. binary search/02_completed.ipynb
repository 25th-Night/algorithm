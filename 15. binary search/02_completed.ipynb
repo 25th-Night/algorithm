{
 "cells": [
  {
   "cell_type": "code",
   "execution_count": 1,
   "metadata": {},
   "outputs": [],
   "source": [
    "def binary_search(sorted_data, search):\n",
    "    # 데이터가 없으면 False 반환\n",
    "    if not len(sorted_data):\n",
    "        return False\n",
    "    # 데이터가 1개 뿐이라면 그 요소가 찾는 데이터와 일치하는지 여부를 반환\n",
    "    elif len(sorted_data) == 1:\n",
    "        return search == sorted_data[0]\n",
    "    \n",
    "    # 전체 데이터의 중간 idx를 계산\n",
    "    middle = len(sorted_data)//2\n",
    "    # 찾는 데이터가 주어진 데이터의 중간 값과 일치한다면 True 반환\n",
    "    if search == sorted_data[middle]:\n",
    "        return True\n",
    "    # 찾는 데이터가 주어진 데이터의 중간 값보다 작다면\n",
    "    elif search < middle:\n",
    "        # 주어진 데이터의 처음부터 중간 이전까지에 대해 재귀 호출을 통해 이진 탐색 진행\n",
    "        return binary_search(sorted_data[:middle], search)\n",
    "    # 찾는 데이터가 주어진 데이터의 중간 값보다 크다면\n",
    "    elif search > middle:\n",
    "        # 주어진 데이터의 중간부터 끝까지에 대해 재귀 호출을 통해 이진 탐색 진행\n",
    "        return binary_search(sorted_data[middle:], search)"
   ]
  },
  {
   "cell_type": "code",
   "execution_count": 2,
   "metadata": {},
   "outputs": [
    {
     "name": "stdout",
     "output_type": "stream",
     "text": [
      "[41, 96, 44, 55, 93, 80, 3, 17, 57, 33]\n",
      "----------------------\n",
      "[3, 17, 33, 41, 44, 55, 57, 80, 93, 96]\n",
      "----------------------\n",
      "False\n"
     ]
    }
   ],
   "source": [
    "import random\n",
    "data_list = random.sample(range(100), 10)\n",
    "print(data_list)\n",
    "print(\"----------------------\")\n",
    "\n",
    "data_list.sort()\n",
    "print(data_list)\n",
    "print(\"----------------------\")\n",
    "\n",
    "print(binary_search(data_list, 66))"
   ]
  },
  {
   "cell_type": "code",
   "execution_count": null,
   "metadata": {},
   "outputs": [],
   "source": []
  }
 ],
 "metadata": {
  "kernelspec": {
   "display_name": "Python 3",
   "language": "python",
   "name": "python3"
  },
  "language_info": {
   "codemirror_mode": {
    "name": "ipython",
    "version": 3
   },
   "file_extension": ".py",
   "mimetype": "text/x-python",
   "name": "python",
   "nbconvert_exporter": "python",
   "pygments_lexer": "ipython3",
   "version": "3.11.0"
  }
 },
 "nbformat": 4,
 "nbformat_minor": 2
}
