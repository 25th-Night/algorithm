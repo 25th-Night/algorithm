{
 "cells": [
  {
   "cell_type": "code",
   "execution_count": null,
   "metadata": {},
   "outputs": [],
   "source": [
    "def binary_search(sorted_data, search):\n",
    "    # 데이터가 없으면 False 반환\n",
    "\n",
    "    # 데이터가 1개 뿐이라면 그 요소가 찾는 데이터와 일치하는지 여부를 반환\n",
    "    \n",
    "    # 전체 데이터의 중간 idx를 계산\n",
    "\n",
    "    # 찾는 데이터가 주어진 데이터의 중간 값과 일치한다면 True 반환\n",
    "\n",
    "    # 찾는 데이터가 주어진 데이터의 중간 값보다 작다면\n",
    "\n",
    "        # 주어진 데이터의 처음부터 중간 이전까지에 대해 재귀 호출을 통해 이진 탐색 진행\n",
    "\n",
    "    # 찾는 데이터가 주어진 데이터의 중간 값보다 크다면\n",
    "\n",
    "        # 주어진 데이터의 중간부터 끝까지에 대해 재귀 호출을 통해 이진 탐색 진행\n"
   ]
  },
  {
   "cell_type": "code",
   "execution_count": null,
   "metadata": {},
   "outputs": [],
   "source": [
    "import random\n",
    "data_list = random.sample(range(100), 10)\n",
    "print(data_list)\n",
    "print(\"----------------------\")\n",
    "\n",
    "data_list.sort()\n",
    "print(data_list)\n",
    "print(\"----------------------\")\n",
    "\n",
    "print(binary_search(data_list, 66))"
   ]
  }
 ],
 "metadata": {
  "language_info": {
   "name": "python"
  }
 },
 "nbformat": 4,
 "nbformat_minor": 2
}
